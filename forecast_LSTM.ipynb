{
  "cells": [
    {
      "cell_type": "code",
      "execution_count": 465,
      "metadata": {
        "id": "pr1naVQAVEvr"
      },
      "outputs": [],
      "source": [
        "import pandas as pd\n",
        "import numpy as np\n",
        "import matplotlib.pyplot as plt\n",
        "from sklearn.metrics import mean_absolute_error, mean_squared_error, mean_absolute_percentage_error\n",
        "from sklearn.preprocessing import MinMaxScaler"
      ]
    },
    {
      "cell_type": "code",
      "execution_count": 466,
      "metadata": {
        "id": "g-Vkg86lVHbv"
      },
      "outputs": [],
      "source": [
        "df = pd.read_excel(\"Superstore.xlsx\", index_col=\"Row ID\")"
      ]
    },
    {
      "cell_type": "code",
      "execution_count": 467,
      "metadata": {
        "colab": {
          "base_uri": "https://localhost:8080/"
        },
        "id": "0IJuNPznVxoK",
        "outputId": "147cbf75-ef14-4fae-9db4-e6afd5037095"
      },
      "outputs": [
        {
          "data": {
            "text/plain": [
              "(9994, 20)"
            ]
          },
          "execution_count": 467,
          "metadata": {},
          "output_type": "execute_result"
        }
      ],
      "source": [
        "df.shape"
      ]
    },
    {
      "cell_type": "code",
      "execution_count": 468,
      "metadata": {
        "colab": {
          "base_uri": "https://localhost:8080/"
        },
        "id": "3ONn2fzIVz1T",
        "outputId": "79b0949c-7025-4589-ca66-97212d469354"
      },
      "outputs": [
        {
          "data": {
            "text/plain": [
              "Order ID         0\n",
              "Order Date       0\n",
              "Ship Date        0\n",
              "Ship Mode        0\n",
              "Customer ID      0\n",
              "Customer Name    0\n",
              "Segment          0\n",
              "Country          0\n",
              "City             0\n",
              "State            0\n",
              "Postal Code      0\n",
              "Region           0\n",
              "Product ID       0\n",
              "Category         0\n",
              "Sub-Category     0\n",
              "Product Name     0\n",
              "Sales            0\n",
              "Quantity         0\n",
              "Discount         0\n",
              "Profit           0\n",
              "dtype: int64"
            ]
          },
          "execution_count": 468,
          "metadata": {},
          "output_type": "execute_result"
        }
      ],
      "source": [
        "df.isna().sum()"
      ]
    },
    {
      "cell_type": "code",
      "execution_count": 469,
      "metadata": {
        "colab": {
          "base_uri": "https://localhost:8080/"
        },
        "id": "bpLeQUL3V189",
        "outputId": "f9623014-0399-4e93-cd91-ee92e4d9df55"
      },
      "outputs": [
        {
          "name": "stdout",
          "output_type": "stream",
          "text": [
            "<class 'pandas.core.frame.DataFrame'>\n",
            "Index: 9994 entries, 1 to 9994\n",
            "Data columns (total 20 columns):\n",
            " #   Column         Non-Null Count  Dtype         \n",
            "---  ------         --------------  -----         \n",
            " 0   Order ID       9994 non-null   object        \n",
            " 1   Order Date     9994 non-null   datetime64[ns]\n",
            " 2   Ship Date      9994 non-null   datetime64[ns]\n",
            " 3   Ship Mode      9994 non-null   object        \n",
            " 4   Customer ID    9994 non-null   object        \n",
            " 5   Customer Name  9994 non-null   object        \n",
            " 6   Segment        9994 non-null   object        \n",
            " 7   Country        9994 non-null   object        \n",
            " 8   City           9994 non-null   object        \n",
            " 9   State          9994 non-null   object        \n",
            " 10  Postal Code    9994 non-null   int64         \n",
            " 11  Region         9994 non-null   object        \n",
            " 12  Product ID     9994 non-null   object        \n",
            " 13  Category       9994 non-null   object        \n",
            " 14  Sub-Category   9994 non-null   object        \n",
            " 15  Product Name   9994 non-null   object        \n",
            " 16  Sales          9994 non-null   float64       \n",
            " 17  Quantity       9994 non-null   int64         \n",
            " 18  Discount       9994 non-null   float64       \n",
            " 19  Profit         9994 non-null   float64       \n",
            "dtypes: datetime64[ns](2), float64(3), int64(2), object(13)\n",
            "memory usage: 1.6+ MB\n"
          ]
        }
      ],
      "source": [
        "df.info()"
      ]
    },
    {
      "cell_type": "code",
      "execution_count": 470,
      "metadata": {
        "id": "hDrrd7Y-V5Yz"
      },
      "outputs": [],
      "source": [
        "df['Order Date'] = pd.to_datetime(df['Order Date'])"
      ]
    },
    {
      "cell_type": "code",
      "execution_count": 471,
      "metadata": {
        "id": "d8aQknZYV7Mp"
      },
      "outputs": [],
      "source": [
        "Sales_by_day_df = df.groupby('Order Date')['Sales'].sum().reset_index()"
      ]
    },
    {
      "cell_type": "code",
      "execution_count": 472,
      "metadata": {
        "id": "P4ubRk4tV93_"
      },
      "outputs": [],
      "source": [
        "Sales_by_day_df.drop(columns=['Order Date'], inplace=True)"
      ]
    },
    {
      "cell_type": "code",
      "execution_count": 473,
      "metadata": {
        "colab": {
          "base_uri": "https://localhost:8080/",
          "height": 362
        },
        "id": "LYy2yCsBWAKn",
        "outputId": "00839438-fe89-47cb-b289-e13f69762677"
      },
      "outputs": [
        {
          "data": {
            "text/html": [
              "<div>\n",
              "<style scoped>\n",
              "    .dataframe tbody tr th:only-of-type {\n",
              "        vertical-align: middle;\n",
              "    }\n",
              "\n",
              "    .dataframe tbody tr th {\n",
              "        vertical-align: top;\n",
              "    }\n",
              "\n",
              "    .dataframe thead th {\n",
              "        text-align: right;\n",
              "    }\n",
              "</style>\n",
              "<table border=\"1\" class=\"dataframe\">\n",
              "  <thead>\n",
              "    <tr style=\"text-align: right;\">\n",
              "      <th></th>\n",
              "      <th>Sales</th>\n",
              "    </tr>\n",
              "  </thead>\n",
              "  <tbody>\n",
              "    <tr>\n",
              "      <th>0</th>\n",
              "      <td>16.448</td>\n",
              "    </tr>\n",
              "    <tr>\n",
              "      <th>1</th>\n",
              "      <td>288.060</td>\n",
              "    </tr>\n",
              "    <tr>\n",
              "      <th>2</th>\n",
              "      <td>19.536</td>\n",
              "    </tr>\n",
              "    <tr>\n",
              "      <th>3</th>\n",
              "      <td>4407.100</td>\n",
              "    </tr>\n",
              "    <tr>\n",
              "      <th>4</th>\n",
              "      <td>87.158</td>\n",
              "    </tr>\n",
              "    <tr>\n",
              "      <th>5</th>\n",
              "      <td>40.544</td>\n",
              "    </tr>\n",
              "    <tr>\n",
              "      <th>6</th>\n",
              "      <td>54.830</td>\n",
              "    </tr>\n",
              "    <tr>\n",
              "      <th>7</th>\n",
              "      <td>9.940</td>\n",
              "    </tr>\n",
              "    <tr>\n",
              "      <th>8</th>\n",
              "      <td>3553.795</td>\n",
              "    </tr>\n",
              "    <tr>\n",
              "      <th>9</th>\n",
              "      <td>61.960</td>\n",
              "    </tr>\n",
              "  </tbody>\n",
              "</table>\n",
              "</div>"
            ],
            "text/plain": [
              "      Sales\n",
              "0    16.448\n",
              "1   288.060\n",
              "2    19.536\n",
              "3  4407.100\n",
              "4    87.158\n",
              "5    40.544\n",
              "6    54.830\n",
              "7     9.940\n",
              "8  3553.795\n",
              "9    61.960"
            ]
          },
          "execution_count": 473,
          "metadata": {},
          "output_type": "execute_result"
        }
      ],
      "source": [
        "Sales_by_day_df.head(10)"
      ]
    },
    {
      "cell_type": "code",
      "execution_count": 474,
      "metadata": {
        "colab": {
          "base_uri": "https://localhost:8080/",
          "height": 362
        },
        "id": "l0KYqKb_WA3Z",
        "outputId": "e6d72f6a-d6c8-42de-daf8-711c93140529"
      },
      "outputs": [
        {
          "data": {
            "text/html": [
              "<div>\n",
              "<style scoped>\n",
              "    .dataframe tbody tr th:only-of-type {\n",
              "        vertical-align: middle;\n",
              "    }\n",
              "\n",
              "    .dataframe tbody tr th {\n",
              "        vertical-align: top;\n",
              "    }\n",
              "\n",
              "    .dataframe thead th {\n",
              "        text-align: right;\n",
              "    }\n",
              "</style>\n",
              "<table border=\"1\" class=\"dataframe\">\n",
              "  <thead>\n",
              "    <tr style=\"text-align: right;\">\n",
              "      <th></th>\n",
              "      <th>Sales</th>\n",
              "    </tr>\n",
              "  </thead>\n",
              "  <tbody>\n",
              "    <tr>\n",
              "      <th>1228</th>\n",
              "      <td>2140.9400</td>\n",
              "    </tr>\n",
              "    <tr>\n",
              "      <th>1229</th>\n",
              "      <td>7442.0210</td>\n",
              "    </tr>\n",
              "    <tr>\n",
              "      <th>1230</th>\n",
              "      <td>1926.7760</td>\n",
              "    </tr>\n",
              "    <tr>\n",
              "      <th>1231</th>\n",
              "      <td>6233.0540</td>\n",
              "    </tr>\n",
              "    <tr>\n",
              "      <th>1232</th>\n",
              "      <td>2698.9270</td>\n",
              "    </tr>\n",
              "    <tr>\n",
              "      <th>1233</th>\n",
              "      <td>814.5940</td>\n",
              "    </tr>\n",
              "    <tr>\n",
              "      <th>1234</th>\n",
              "      <td>177.6360</td>\n",
              "    </tr>\n",
              "    <tr>\n",
              "      <th>1235</th>\n",
              "      <td>1657.3508</td>\n",
              "    </tr>\n",
              "    <tr>\n",
              "      <th>1236</th>\n",
              "      <td>2915.5340</td>\n",
              "    </tr>\n",
              "    <tr>\n",
              "      <th>1237</th>\n",
              "      <td>713.7900</td>\n",
              "    </tr>\n",
              "  </tbody>\n",
              "</table>\n",
              "</div>"
            ],
            "text/plain": [
              "          Sales\n",
              "1228  2140.9400\n",
              "1229  7442.0210\n",
              "1230  1926.7760\n",
              "1231  6233.0540\n",
              "1232  2698.9270\n",
              "1233   814.5940\n",
              "1234   177.6360\n",
              "1235  1657.3508\n",
              "1236  2915.5340\n",
              "1237   713.7900"
            ]
          },
          "execution_count": 474,
          "metadata": {},
          "output_type": "execute_result"
        }
      ],
      "source": [
        "Sales_by_day_df.tail(10)"
      ]
    },
    {
      "cell_type": "code",
      "execution_count": 475,
      "metadata": {
        "id": "sVNEjkuCWCuq"
      },
      "outputs": [],
      "source": [
        "split_type = [[0.8,0.2], [0.9, 0.1], [0,75,0.25]]"
      ]
    },
    {
      "cell_type": "code",
      "execution_count": 476,
      "metadata": {
        "id": "g5pLmPYOWFN0"
      },
      "outputs": [],
      "source": [
        "split = 0"
      ]
    },
    {
      "cell_type": "code",
      "execution_count": 477,
      "metadata": {
        "id": "e1j9mycjW4E-"
      },
      "outputs": [],
      "source": [
        "from sklearn.preprocessing import StandardScaler\n",
        "scaler = MinMaxScaler(feature_range=(0, 1))\n",
        "df_scaled = scaler.fit_transform(np.array(Sales_by_day_df).reshape(-1, 1))"
      ]
    },
    {
      "cell_type": "code",
      "execution_count": 478,
      "metadata": {
        "id": "RgXoMXRgWHpC"
      },
      "outputs": [],
      "source": [
        "train_size = int(split_type[split][0] * len(df_scaled))\n",
        "test_size = int(split_type[split][1] * len(df_scaled))"
      ]
    },
    {
      "cell_type": "code",
      "execution_count": 479,
      "metadata": {
        "id": "mIUMdI3XWh2p"
      },
      "outputs": [],
      "source": [
        "train_data = df_scaled[:train_size]\n",
        "test_data = df_scaled[train_size : train_size + test_size]"
      ]
    },
    {
      "cell_type": "code",
      "execution_count": 480,
      "metadata": {
        "id": "1R3dDO3rWj87"
      },
      "outputs": [],
      "source": [
        "# Function to create dataset input and output, it will convert an array of values into a dataset matrix, use the sliding window with the time_step argument\n",
        "def create_dataset(data, window_slide):\n",
        "    X, y = [], []\n",
        "\n",
        "    for i in range(len(data) - window_slide - 1):\n",
        "        X.append(data[i : (i + window_slide), 0])\n",
        "        y.append(data[i + window_slide, 0])\n",
        "\n",
        "    return np.array(X), np.array(y)"
      ]
    },
    {
      "cell_type": "code",
      "execution_count": 481,
      "metadata": {
        "colab": {
          "base_uri": "https://localhost:8080/"
        },
        "id": "6ZMIvJ-mWmoz",
        "outputId": "e802ea7d-9655-4f14-8d82-921f92efaf88"
      },
      "outputs": [
        {
          "data": {
            "text/plain": [
              "((982, 7), (982,), (239, 7), (239,))"
            ]
          },
          "execution_count": 481,
          "metadata": {},
          "output_type": "execute_result"
        }
      ],
      "source": [
        "# Define time step, it mean the model will take 10 days before to predict the closing price 'at that time'\n",
        "WINDOW_SLIDE = 7\n",
        "\n",
        "# Create X, y for train, test and validate\n",
        "X_train, y_train = create_dataset(train_data, WINDOW_SLIDE)\n",
        "X_test, y_test = create_dataset(test_data, WINDOW_SLIDE)\n",
        "X_train.shape, y_train.shape, X_test.shape, y_test.shape"
      ]
    },
    {
      "cell_type": "code",
      "execution_count": 482,
      "metadata": {
        "id": "ngy0rvtFXIXX"
      },
      "outputs": [],
      "source": [
        "X_train = X_train.reshape(X_train.shape[0], X_train.shape[1], 1)\n",
        "X_test = X_test.reshape(X_test.shape[0], X_test.shape[1], 1)"
      ]
    },
    {
      "cell_type": "code",
      "execution_count": 483,
      "metadata": {
        "colab": {
          "base_uri": "https://localhost:8080/"
        },
        "id": "1KDduIs9XLhM",
        "outputId": "989a6c91-edb8-48e1-d84c-ac1bad37a377"
      },
      "outputs": [
        {
          "data": {
            "text/html": [
              "<pre style=\"white-space:pre;overflow-x:auto;line-height:normal;font-family:Menlo,'DejaVu Sans Mono',consolas,'Courier New',monospace\"><span style=\"font-weight: bold\">Model: \"sequential_16\"</span>\n",
              "</pre>\n"
            ],
            "text/plain": [
              "\u001b[1mModel: \"sequential_16\"\u001b[0m\n"
            ]
          },
          "metadata": {},
          "output_type": "display_data"
        },
        {
          "data": {
            "text/html": [
              "<pre style=\"white-space:pre;overflow-x:auto;line-height:normal;font-family:Menlo,'DejaVu Sans Mono',consolas,'Courier New',monospace\">┏━━━━━━━━━━━━━━━━━━━━━━━━━━━━━━━━━┳━━━━━━━━━━━━━━━━━━━━━━━━┳━━━━━━━━━━━━━━━┓\n",
              "┃<span style=\"font-weight: bold\"> Layer (type)                    </span>┃<span style=\"font-weight: bold\"> Output Shape           </span>┃<span style=\"font-weight: bold\">       Param # </span>┃\n",
              "┡━━━━━━━━━━━━━━━━━━━━━━━━━━━━━━━━━╇━━━━━━━━━━━━━━━━━━━━━━━━╇━━━━━━━━━━━━━━━┩\n",
              "│ lstm_32 (<span style=\"color: #0087ff; text-decoration-color: #0087ff\">LSTM</span>)                  │ (<span style=\"color: #00d7ff; text-decoration-color: #00d7ff\">None</span>, <span style=\"color: #00af00; text-decoration-color: #00af00\">7</span>, <span style=\"color: #00af00; text-decoration-color: #00af00\">64</span>)          │        <span style=\"color: #00af00; text-decoration-color: #00af00\">16,896</span> │\n",
              "├─────────────────────────────────┼────────────────────────┼───────────────┤\n",
              "│ lstm_33 (<span style=\"color: #0087ff; text-decoration-color: #0087ff\">LSTM</span>)                  │ (<span style=\"color: #00d7ff; text-decoration-color: #00d7ff\">None</span>, <span style=\"color: #00af00; text-decoration-color: #00af00\">32</span>)             │        <span style=\"color: #00af00; text-decoration-color: #00af00\">12,416</span> │\n",
              "├─────────────────────────────────┼────────────────────────┼───────────────┤\n",
              "│ dense_16 (<span style=\"color: #0087ff; text-decoration-color: #0087ff\">Dense</span>)                │ (<span style=\"color: #00d7ff; text-decoration-color: #00d7ff\">None</span>, <span style=\"color: #00af00; text-decoration-color: #00af00\">1</span>)              │            <span style=\"color: #00af00; text-decoration-color: #00af00\">33</span> │\n",
              "└─────────────────────────────────┴────────────────────────┴───────────────┘\n",
              "</pre>\n"
            ],
            "text/plain": [
              "┏━━━━━━━━━━━━━━━━━━━━━━━━━━━━━━━━━┳━━━━━━━━━━━━━━━━━━━━━━━━┳━━━━━━━━━━━━━━━┓\n",
              "┃\u001b[1m \u001b[0m\u001b[1mLayer (type)                   \u001b[0m\u001b[1m \u001b[0m┃\u001b[1m \u001b[0m\u001b[1mOutput Shape          \u001b[0m\u001b[1m \u001b[0m┃\u001b[1m \u001b[0m\u001b[1m      Param #\u001b[0m\u001b[1m \u001b[0m┃\n",
              "┡━━━━━━━━━━━━━━━━━━━━━━━━━━━━━━━━━╇━━━━━━━━━━━━━━━━━━━━━━━━╇━━━━━━━━━━━━━━━┩\n",
              "│ lstm_32 (\u001b[38;5;33mLSTM\u001b[0m)                  │ (\u001b[38;5;45mNone\u001b[0m, \u001b[38;5;34m7\u001b[0m, \u001b[38;5;34m64\u001b[0m)          │        \u001b[38;5;34m16,896\u001b[0m │\n",
              "├─────────────────────────────────┼────────────────────────┼───────────────┤\n",
              "│ lstm_33 (\u001b[38;5;33mLSTM\u001b[0m)                  │ (\u001b[38;5;45mNone\u001b[0m, \u001b[38;5;34m32\u001b[0m)             │        \u001b[38;5;34m12,416\u001b[0m │\n",
              "├─────────────────────────────────┼────────────────────────┼───────────────┤\n",
              "│ dense_16 (\u001b[38;5;33mDense\u001b[0m)                │ (\u001b[38;5;45mNone\u001b[0m, \u001b[38;5;34m1\u001b[0m)              │            \u001b[38;5;34m33\u001b[0m │\n",
              "└─────────────────────────────────┴────────────────────────┴───────────────┘\n"
            ]
          },
          "metadata": {},
          "output_type": "display_data"
        },
        {
          "data": {
            "text/html": [
              "<pre style=\"white-space:pre;overflow-x:auto;line-height:normal;font-family:Menlo,'DejaVu Sans Mono',consolas,'Courier New',monospace\"><span style=\"font-weight: bold\"> Total params: </span><span style=\"color: #00af00; text-decoration-color: #00af00\">29,345</span> (114.63 KB)\n",
              "</pre>\n"
            ],
            "text/plain": [
              "\u001b[1m Total params: \u001b[0m\u001b[38;5;34m29,345\u001b[0m (114.63 KB)\n"
            ]
          },
          "metadata": {},
          "output_type": "display_data"
        },
        {
          "data": {
            "text/html": [
              "<pre style=\"white-space:pre;overflow-x:auto;line-height:normal;font-family:Menlo,'DejaVu Sans Mono',consolas,'Courier New',monospace\"><span style=\"font-weight: bold\"> Trainable params: </span><span style=\"color: #00af00; text-decoration-color: #00af00\">29,345</span> (114.63 KB)\n",
              "</pre>\n"
            ],
            "text/plain": [
              "\u001b[1m Trainable params: \u001b[0m\u001b[38;5;34m29,345\u001b[0m (114.63 KB)\n"
            ]
          },
          "metadata": {},
          "output_type": "display_data"
        },
        {
          "data": {
            "text/html": [
              "<pre style=\"white-space:pre;overflow-x:auto;line-height:normal;font-family:Menlo,'DejaVu Sans Mono',consolas,'Courier New',monospace\"><span style=\"font-weight: bold\"> Non-trainable params: </span><span style=\"color: #00af00; text-decoration-color: #00af00\">0</span> (0.00 B)\n",
              "</pre>\n"
            ],
            "text/plain": [
              "\u001b[1m Non-trainable params: \u001b[0m\u001b[38;5;34m0\u001b[0m (0.00 B)\n"
            ]
          },
          "metadata": {},
          "output_type": "display_data"
        }
      ],
      "source": [
        "from keras.models import Sequential\n",
        "from keras.layers import Dense, LSTM, Input\n",
        "\n",
        "# Initialize LSTM model\n",
        "model = Sequential(\n",
        "    [\n",
        "        Input((X_train.shape[1], 1)),\n",
        "        LSTM(64, return_sequences=True),\n",
        "        LSTM(32),\n",
        "        Dense(1),\n",
        "    ]\n",
        ")\n",
        "model.summary()"
      ]
    },
    {
      "cell_type": "code",
      "execution_count": 484,
      "metadata": {
        "id": "hBLplU_CXNU1"
      },
      "outputs": [],
      "source": [
        "model.compile(optimizer=\"adam\", loss=\"mse\", metrics=[\"mean_absolute_error\"])"
      ]
    },
    {
      "cell_type": "code",
      "execution_count": 485,
      "metadata": {
        "colab": {
          "base_uri": "https://localhost:8080/"
        },
        "id": "X-5vFC1MXPHq",
        "outputId": "70d8f758-0b64-4bec-dc25-0df8f0c7ceb6"
      },
      "outputs": [
        {
          "name": "stdout",
          "output_type": "stream",
          "text": [
            "Epoch 1/300\n",
            "\u001b[1m31/31\u001b[0m \u001b[32m━━━━━━━━━━━━━━━━━━━━\u001b[0m\u001b[37m\u001b[0m \u001b[1m3s\u001b[0m 15ms/step - loss: 0.0093 - mean_absolute_error: 0.0593 - val_loss: 0.0083 - val_mean_absolute_error: 0.0618\n",
            "Epoch 2/300\n",
            "\u001b[1m31/31\u001b[0m \u001b[32m━━━━━━━━━━━━━━━━━━━━\u001b[0m\u001b[37m\u001b[0m \u001b[1m0s\u001b[0m 6ms/step - loss: 0.0052 - mean_absolute_error: 0.0506 - val_loss: 0.0077 - val_mean_absolute_error: 0.0648\n",
            "Epoch 3/300\n",
            "\u001b[1m31/31\u001b[0m \u001b[32m━━━━━━━━━━━━━━━━━━━━\u001b[0m\u001b[37m\u001b[0m \u001b[1m0s\u001b[0m 5ms/step - loss: 0.0063 - mean_absolute_error: 0.0551 - val_loss: 0.0078 - val_mean_absolute_error: 0.0641\n",
            "Epoch 4/300\n",
            "\u001b[1m31/31\u001b[0m \u001b[32m━━━━━━━━━━━━━━━━━━━━\u001b[0m\u001b[37m\u001b[0m \u001b[1m0s\u001b[0m 5ms/step - loss: 0.0072 - mean_absolute_error: 0.0540 - val_loss: 0.0081 - val_mean_absolute_error: 0.0622\n",
            "Epoch 5/300\n",
            "\u001b[1m31/31\u001b[0m \u001b[32m━━━━━━━━━━━━━━━━━━━━\u001b[0m\u001b[37m\u001b[0m \u001b[1m0s\u001b[0m 5ms/step - loss: 0.0073 - mean_absolute_error: 0.0550 - val_loss: 0.0086 - val_mean_absolute_error: 0.0620\n",
            "Epoch 6/300\n",
            "\u001b[1m31/31\u001b[0m \u001b[32m━━━━━━━━━━━━━━━━━━━━\u001b[0m\u001b[37m\u001b[0m \u001b[1m0s\u001b[0m 4ms/step - loss: 0.0065 - mean_absolute_error: 0.0520 - val_loss: 0.0087 - val_mean_absolute_error: 0.0620\n",
            "Epoch 7/300\n",
            "\u001b[1m31/31\u001b[0m \u001b[32m━━━━━━━━━━━━━━━━━━━━\u001b[0m\u001b[37m\u001b[0m \u001b[1m0s\u001b[0m 4ms/step - loss: 0.0079 - mean_absolute_error: 0.0528 - val_loss: 0.0079 - val_mean_absolute_error: 0.0628\n",
            "Epoch 8/300\n",
            "\u001b[1m31/31\u001b[0m \u001b[32m━━━━━━━━━━━━━━━━━━━━\u001b[0m\u001b[37m\u001b[0m \u001b[1m0s\u001b[0m 5ms/step - loss: 0.0093 - mean_absolute_error: 0.0571 - val_loss: 0.0080 - val_mean_absolute_error: 0.0626\n",
            "Epoch 9/300\n",
            "\u001b[1m31/31\u001b[0m \u001b[32m━━━━━━━━━━━━━━━━━━━━\u001b[0m\u001b[37m\u001b[0m \u001b[1m0s\u001b[0m 5ms/step - loss: 0.0060 - mean_absolute_error: 0.0538 - val_loss: 0.0081 - val_mean_absolute_error: 0.0622\n",
            "Epoch 10/300\n",
            "\u001b[1m31/31\u001b[0m \u001b[32m━━━━━━━━━━━━━━━━━━━━\u001b[0m\u001b[37m\u001b[0m \u001b[1m0s\u001b[0m 5ms/step - loss: 0.0051 - mean_absolute_error: 0.0468 - val_loss: 0.0079 - val_mean_absolute_error: 0.0633\n",
            "Epoch 11/300\n",
            "\u001b[1m31/31\u001b[0m \u001b[32m━━━━━━━━━━━━━━━━━━━━\u001b[0m\u001b[37m\u001b[0m \u001b[1m0s\u001b[0m 4ms/step - loss: 0.0062 - mean_absolute_error: 0.0501 - val_loss: 0.0078 - val_mean_absolute_error: 0.0636\n",
            "Epoch 12/300\n",
            "\u001b[1m31/31\u001b[0m \u001b[32m━━━━━━━━━━━━━━━━━━━━\u001b[0m\u001b[37m\u001b[0m \u001b[1m0s\u001b[0m 5ms/step - loss: 0.0061 - mean_absolute_error: 0.0509 - val_loss: 0.0081 - val_mean_absolute_error: 0.0621\n",
            "Epoch 13/300\n",
            "\u001b[1m31/31\u001b[0m \u001b[32m━━━━━━━━━━━━━━━━━━━━\u001b[0m\u001b[37m\u001b[0m \u001b[1m0s\u001b[0m 5ms/step - loss: 0.0079 - mean_absolute_error: 0.0498 - val_loss: 0.0079 - val_mean_absolute_error: 0.0630\n",
            "Epoch 14/300\n",
            "\u001b[1m31/31\u001b[0m \u001b[32m━━━━━━━━━━━━━━━━━━━━\u001b[0m\u001b[37m\u001b[0m \u001b[1m0s\u001b[0m 5ms/step - loss: 0.0068 - mean_absolute_error: 0.0525 - val_loss: 0.0084 - val_mean_absolute_error: 0.0619\n",
            "Epoch 15/300\n",
            "\u001b[1m31/31\u001b[0m \u001b[32m━━━━━━━━━━━━━━━━━━━━\u001b[0m\u001b[37m\u001b[0m \u001b[1m0s\u001b[0m 5ms/step - loss: 0.0061 - mean_absolute_error: 0.0520 - val_loss: 0.0087 - val_mean_absolute_error: 0.0621\n",
            "Epoch 16/300\n",
            "\u001b[1m31/31\u001b[0m \u001b[32m━━━━━━━━━━━━━━━━━━━━\u001b[0m\u001b[37m\u001b[0m \u001b[1m0s\u001b[0m 5ms/step - loss: 0.0061 - mean_absolute_error: 0.0500 - val_loss: 0.0082 - val_mean_absolute_error: 0.0618\n",
            "Epoch 17/300\n",
            "\u001b[1m31/31\u001b[0m \u001b[32m━━━━━━━━━━━━━━━━━━━━\u001b[0m\u001b[37m\u001b[0m \u001b[1m0s\u001b[0m 5ms/step - loss: 0.0061 - mean_absolute_error: 0.0516 - val_loss: 0.0082 - val_mean_absolute_error: 0.0621\n",
            "Epoch 18/300\n",
            "\u001b[1m31/31\u001b[0m \u001b[32m━━━━━━━━━━━━━━━━━━━━\u001b[0m\u001b[37m\u001b[0m \u001b[1m0s\u001b[0m 5ms/step - loss: 0.0049 - mean_absolute_error: 0.0466 - val_loss: 0.0079 - val_mean_absolute_error: 0.0630\n",
            "Epoch 19/300\n",
            "\u001b[1m31/31\u001b[0m \u001b[32m━━━━━━━━━━━━━━━━━━━━\u001b[0m\u001b[37m\u001b[0m \u001b[1m0s\u001b[0m 6ms/step - loss: 0.0053 - mean_absolute_error: 0.0495 - val_loss: 0.0077 - val_mean_absolute_error: 0.0650\n",
            "Epoch 20/300\n",
            "\u001b[1m31/31\u001b[0m \u001b[32m━━━━━━━━━━━━━━━━━━━━\u001b[0m\u001b[37m\u001b[0m \u001b[1m0s\u001b[0m 4ms/step - loss: 0.0059 - mean_absolute_error: 0.0527 - val_loss: 0.0081 - val_mean_absolute_error: 0.0620\n",
            "Epoch 21/300\n",
            "\u001b[1m31/31\u001b[0m \u001b[32m━━━━━━━━━━━━━━━━━━━━\u001b[0m\u001b[37m\u001b[0m \u001b[1m0s\u001b[0m 4ms/step - loss: 0.0071 - mean_absolute_error: 0.0508 - val_loss: 0.0081 - val_mean_absolute_error: 0.0620\n",
            "Epoch 22/300\n",
            "\u001b[1m31/31\u001b[0m \u001b[32m━━━━━━━━━━━━━━━━━━━━\u001b[0m\u001b[37m\u001b[0m \u001b[1m0s\u001b[0m 4ms/step - loss: 0.0080 - mean_absolute_error: 0.0556 - val_loss: 0.0083 - val_mean_absolute_error: 0.0618\n",
            "Epoch 23/300\n",
            "\u001b[1m31/31\u001b[0m \u001b[32m━━━━━━━━━━━━━━━━━━━━\u001b[0m\u001b[37m\u001b[0m \u001b[1m0s\u001b[0m 4ms/step - loss: 0.0062 - mean_absolute_error: 0.0511 - val_loss: 0.0085 - val_mean_absolute_error: 0.0620\n",
            "Epoch 24/300\n",
            "\u001b[1m31/31\u001b[0m \u001b[32m━━━━━━━━━━━━━━━━━━━━\u001b[0m\u001b[37m\u001b[0m \u001b[1m0s\u001b[0m 4ms/step - loss: 0.0077 - mean_absolute_error: 0.0532 - val_loss: 0.0083 - val_mean_absolute_error: 0.0617\n",
            "Epoch 25/300\n",
            "\u001b[1m31/31\u001b[0m \u001b[32m━━━━━━━━━━━━━━━━━━━━\u001b[0m\u001b[37m\u001b[0m \u001b[1m0s\u001b[0m 5ms/step - loss: 0.0064 - mean_absolute_error: 0.0514 - val_loss: 0.0083 - val_mean_absolute_error: 0.0617\n",
            "Epoch 26/300\n",
            "\u001b[1m31/31\u001b[0m \u001b[32m━━━━━━━━━━━━━━━━━━━━\u001b[0m\u001b[37m\u001b[0m \u001b[1m0s\u001b[0m 5ms/step - loss: 0.0051 - mean_absolute_error: 0.0469 - val_loss: 0.0080 - val_mean_absolute_error: 0.0622\n",
            "Epoch 27/300\n",
            "\u001b[1m31/31\u001b[0m \u001b[32m━━━━━━━━━━━━━━━━━━━━\u001b[0m\u001b[37m\u001b[0m \u001b[1m0s\u001b[0m 5ms/step - loss: 0.0054 - mean_absolute_error: 0.0489 - val_loss: 0.0078 - val_mean_absolute_error: 0.0629\n",
            "Epoch 28/300\n",
            "\u001b[1m31/31\u001b[0m \u001b[32m━━━━━━━━━━━━━━━━━━━━\u001b[0m\u001b[37m\u001b[0m \u001b[1m0s\u001b[0m 4ms/step - loss: 0.0058 - mean_absolute_error: 0.0515 - val_loss: 0.0080 - val_mean_absolute_error: 0.0622\n",
            "Epoch 29/300\n",
            "\u001b[1m31/31\u001b[0m \u001b[32m━━━━━━━━━━━━━━━━━━━━\u001b[0m\u001b[37m\u001b[0m \u001b[1m0s\u001b[0m 5ms/step - loss: 0.0067 - mean_absolute_error: 0.0500 - val_loss: 0.0080 - val_mean_absolute_error: 0.0619\n",
            "Epoch 30/300\n",
            "\u001b[1m31/31\u001b[0m \u001b[32m━━━━━━━━━━━━━━━━━━━━\u001b[0m\u001b[37m\u001b[0m \u001b[1m0s\u001b[0m 5ms/step - loss: 0.0059 - mean_absolute_error: 0.0517 - val_loss: 0.0079 - val_mean_absolute_error: 0.0622\n",
            "Epoch 31/300\n",
            "\u001b[1m31/31\u001b[0m \u001b[32m━━━━━━━━━━━━━━━━━━━━\u001b[0m\u001b[37m\u001b[0m \u001b[1m0s\u001b[0m 5ms/step - loss: 0.0068 - mean_absolute_error: 0.0538 - val_loss: 0.0079 - val_mean_absolute_error: 0.0622\n",
            "Epoch 32/300\n",
            "\u001b[1m31/31\u001b[0m \u001b[32m━━━━━━━━━━━━━━━━━━━━\u001b[0m\u001b[37m\u001b[0m \u001b[1m0s\u001b[0m 5ms/step - loss: 0.0067 - mean_absolute_error: 0.0545 - val_loss: 0.0080 - val_mean_absolute_error: 0.0618\n",
            "Epoch 33/300\n",
            "\u001b[1m31/31\u001b[0m \u001b[32m━━━━━━━━━━━━━━━━━━━━\u001b[0m\u001b[37m\u001b[0m \u001b[1m0s\u001b[0m 4ms/step - loss: 0.0058 - mean_absolute_error: 0.0497 - val_loss: 0.0080 - val_mean_absolute_error: 0.0618\n",
            "Epoch 34/300\n",
            "\u001b[1m31/31\u001b[0m \u001b[32m━━━━━━━━━━━━━━━━━━━━\u001b[0m\u001b[37m\u001b[0m \u001b[1m0s\u001b[0m 6ms/step - loss: 0.0051 - mean_absolute_error: 0.0489 - val_loss: 0.0081 - val_mean_absolute_error: 0.0616\n",
            "Epoch 35/300\n",
            "\u001b[1m31/31\u001b[0m \u001b[32m━━━━━━━━━━━━━━━━━━━━\u001b[0m\u001b[37m\u001b[0m \u001b[1m0s\u001b[0m 5ms/step - loss: 0.0058 - mean_absolute_error: 0.0479 - val_loss: 0.0080 - val_mean_absolute_error: 0.0617\n",
            "Epoch 36/300\n",
            "\u001b[1m31/31\u001b[0m \u001b[32m━━━━━━━━━━━━━━━━━━━━\u001b[0m\u001b[37m\u001b[0m \u001b[1m0s\u001b[0m 4ms/step - loss: 0.0061 - mean_absolute_error: 0.0508 - val_loss: 0.0079 - val_mean_absolute_error: 0.0626\n",
            "Epoch 37/300\n",
            "\u001b[1m31/31\u001b[0m \u001b[32m━━━━━━━━━━━━━━━━━━━━\u001b[0m\u001b[37m\u001b[0m \u001b[1m0s\u001b[0m 4ms/step - loss: 0.0058 - mean_absolute_error: 0.0511 - val_loss: 0.0082 - val_mean_absolute_error: 0.0615\n",
            "Epoch 38/300\n",
            "\u001b[1m31/31\u001b[0m \u001b[32m━━━━━━━━━━━━━━━━━━━━\u001b[0m\u001b[37m\u001b[0m \u001b[1m0s\u001b[0m 4ms/step - loss: 0.0052 - mean_absolute_error: 0.0463 - val_loss: 0.0078 - val_mean_absolute_error: 0.0623\n",
            "Epoch 39/300\n",
            "\u001b[1m31/31\u001b[0m \u001b[32m━━━━━━━━━━━━━━━━━━━━\u001b[0m\u001b[37m\u001b[0m \u001b[1m0s\u001b[0m 4ms/step - loss: 0.0060 - mean_absolute_error: 0.0503 - val_loss: 0.0079 - val_mean_absolute_error: 0.0618\n",
            "Epoch 40/300\n",
            "\u001b[1m31/31\u001b[0m \u001b[32m━━━━━━━━━━━━━━━━━━━━\u001b[0m\u001b[37m\u001b[0m \u001b[1m0s\u001b[0m 4ms/step - loss: 0.0055 - mean_absolute_error: 0.0503 - val_loss: 0.0079 - val_mean_absolute_error: 0.0620\n",
            "Epoch 41/300\n",
            "\u001b[1m31/31\u001b[0m \u001b[32m━━━━━━━━━━━━━━━━━━━━\u001b[0m\u001b[37m\u001b[0m \u001b[1m0s\u001b[0m 5ms/step - loss: 0.0053 - mean_absolute_error: 0.0501 - val_loss: 0.0077 - val_mean_absolute_error: 0.0657\n",
            "Epoch 42/300\n",
            "\u001b[1m31/31\u001b[0m \u001b[32m━━━━━━━━━━━━━━━━━━━━\u001b[0m\u001b[37m\u001b[0m \u001b[1m0s\u001b[0m 5ms/step - loss: 0.0079 - mean_absolute_error: 0.0555 - val_loss: 0.0082 - val_mean_absolute_error: 0.0615\n",
            "Epoch 43/300\n",
            "\u001b[1m31/31\u001b[0m \u001b[32m━━━━━━━━━━━━━━━━━━━━\u001b[0m\u001b[37m\u001b[0m \u001b[1m0s\u001b[0m 6ms/step - loss: 0.0076 - mean_absolute_error: 0.0540 - val_loss: 0.0080 - val_mean_absolute_error: 0.0619\n",
            "Epoch 44/300\n",
            "\u001b[1m31/31\u001b[0m \u001b[32m━━━━━━━━━━━━━━━━━━━━\u001b[0m\u001b[37m\u001b[0m \u001b[1m0s\u001b[0m 5ms/step - loss: 0.0068 - mean_absolute_error: 0.0531 - val_loss: 0.0079 - val_mean_absolute_error: 0.0623\n",
            "Epoch 45/300\n",
            "\u001b[1m31/31\u001b[0m \u001b[32m━━━━━━━━━━━━━━━━━━━━\u001b[0m\u001b[37m\u001b[0m \u001b[1m0s\u001b[0m 5ms/step - loss: 0.0066 - mean_absolute_error: 0.0547 - val_loss: 0.0079 - val_mean_absolute_error: 0.0619\n",
            "Epoch 46/300\n",
            "\u001b[1m31/31\u001b[0m \u001b[32m━━━━━━━━━━━━━━━━━━━━\u001b[0m\u001b[37m\u001b[0m \u001b[1m0s\u001b[0m 5ms/step - loss: 0.0064 - mean_absolute_error: 0.0514 - val_loss: 0.0081 - val_mean_absolute_error: 0.0615\n",
            "Epoch 47/300\n",
            "\u001b[1m31/31\u001b[0m \u001b[32m━━━━━━━━━━━━━━━━━━━━\u001b[0m\u001b[37m\u001b[0m \u001b[1m0s\u001b[0m 5ms/step - loss: 0.0055 - mean_absolute_error: 0.0470 - val_loss: 0.0078 - val_mean_absolute_error: 0.0631\n",
            "Epoch 48/300\n",
            "\u001b[1m31/31\u001b[0m \u001b[32m━━━━━━━━━━━━━━━━━━━━\u001b[0m\u001b[37m\u001b[0m \u001b[1m0s\u001b[0m 4ms/step - loss: 0.0070 - mean_absolute_error: 0.0537 - val_loss: 0.0081 - val_mean_absolute_error: 0.0615\n",
            "Epoch 49/300\n",
            "\u001b[1m31/31\u001b[0m \u001b[32m━━━━━━━━━━━━━━━━━━━━\u001b[0m\u001b[37m\u001b[0m \u001b[1m0s\u001b[0m 5ms/step - loss: 0.0056 - mean_absolute_error: 0.0499 - val_loss: 0.0082 - val_mean_absolute_error: 0.0615\n",
            "Epoch 50/300\n",
            "\u001b[1m31/31\u001b[0m \u001b[32m━━━━━━━━━━━━━━━━━━━━\u001b[0m\u001b[37m\u001b[0m \u001b[1m0s\u001b[0m 5ms/step - loss: 0.0055 - mean_absolute_error: 0.0489 - val_loss: 0.0081 - val_mean_absolute_error: 0.0618\n",
            "Epoch 51/300\n",
            "\u001b[1m31/31\u001b[0m \u001b[32m━━━━━━━━━━━━━━━━━━━━\u001b[0m\u001b[37m\u001b[0m \u001b[1m0s\u001b[0m 4ms/step - loss: 0.0051 - mean_absolute_error: 0.0491 - val_loss: 0.0077 - val_mean_absolute_error: 0.0634\n",
            "Epoch 52/300\n",
            "\u001b[1m31/31\u001b[0m \u001b[32m━━━━━━━━━━━━━━━━━━━━\u001b[0m\u001b[37m\u001b[0m \u001b[1m0s\u001b[0m 4ms/step - loss: 0.0050 - mean_absolute_error: 0.0499 - val_loss: 0.0077 - val_mean_absolute_error: 0.0632\n",
            "Epoch 53/300\n",
            "\u001b[1m31/31\u001b[0m \u001b[32m━━━━━━━━━━━━━━━━━━━━\u001b[0m\u001b[37m\u001b[0m \u001b[1m0s\u001b[0m 4ms/step - loss: 0.0053 - mean_absolute_error: 0.0506 - val_loss: 0.0077 - val_mean_absolute_error: 0.0628\n",
            "Epoch 54/300\n",
            "\u001b[1m31/31\u001b[0m \u001b[32m━━━━━━━━━━━━━━━━━━━━\u001b[0m\u001b[37m\u001b[0m \u001b[1m0s\u001b[0m 4ms/step - loss: 0.0070 - mean_absolute_error: 0.0508 - val_loss: 0.0079 - val_mean_absolute_error: 0.0617\n",
            "Epoch 55/300\n",
            "\u001b[1m31/31\u001b[0m \u001b[32m━━━━━━━━━━━━━━━━━━━━\u001b[0m\u001b[37m\u001b[0m \u001b[1m0s\u001b[0m 4ms/step - loss: 0.0078 - mean_absolute_error: 0.0557 - val_loss: 0.0083 - val_mean_absolute_error: 0.0613\n",
            "Epoch 56/300\n",
            "\u001b[1m31/31\u001b[0m \u001b[32m━━━━━━━━━━━━━━━━━━━━\u001b[0m\u001b[37m\u001b[0m \u001b[1m0s\u001b[0m 5ms/step - loss: 0.0074 - mean_absolute_error: 0.0534 - val_loss: 0.0083 - val_mean_absolute_error: 0.0615\n",
            "Epoch 57/300\n",
            "\u001b[1m31/31\u001b[0m \u001b[32m━━━━━━━━━━━━━━━━━━━━\u001b[0m\u001b[37m\u001b[0m \u001b[1m0s\u001b[0m 5ms/step - loss: 0.0054 - mean_absolute_error: 0.0479 - val_loss: 0.0078 - val_mean_absolute_error: 0.0622\n",
            "Epoch 58/300\n",
            "\u001b[1m31/31\u001b[0m \u001b[32m━━━━━━━━━━━━━━━━━━━━\u001b[0m\u001b[37m\u001b[0m \u001b[1m0s\u001b[0m 7ms/step - loss: 0.0058 - mean_absolute_error: 0.0505 - val_loss: 0.0079 - val_mean_absolute_error: 0.0618\n",
            "Epoch 59/300\n",
            "\u001b[1m31/31\u001b[0m \u001b[32m━━━━━━━━━━━━━━━━━━━━\u001b[0m\u001b[37m\u001b[0m \u001b[1m0s\u001b[0m 5ms/step - loss: 0.0066 - mean_absolute_error: 0.0518 - val_loss: 0.0082 - val_mean_absolute_error: 0.0619\n",
            "Epoch 60/300\n",
            "\u001b[1m31/31\u001b[0m \u001b[32m━━━━━━━━━━━━━━━━━━━━\u001b[0m\u001b[37m\u001b[0m \u001b[1m0s\u001b[0m 4ms/step - loss: 0.0058 - mean_absolute_error: 0.0490 - val_loss: 0.0077 - val_mean_absolute_error: 0.0626\n",
            "Epoch 61/300\n",
            "\u001b[1m31/31\u001b[0m \u001b[32m━━━━━━━━━━━━━━━━━━━━\u001b[0m\u001b[37m\u001b[0m \u001b[1m0s\u001b[0m 5ms/step - loss: 0.0060 - mean_absolute_error: 0.0513 - val_loss: 0.0082 - val_mean_absolute_error: 0.0615\n",
            "Epoch 62/300\n",
            "\u001b[1m31/31\u001b[0m \u001b[32m━━━━━━━━━━━━━━━━━━━━\u001b[0m\u001b[37m\u001b[0m \u001b[1m0s\u001b[0m 6ms/step - loss: 0.0051 - mean_absolute_error: 0.0465 - val_loss: 0.0077 - val_mean_absolute_error: 0.0631\n",
            "Epoch 63/300\n",
            "\u001b[1m31/31\u001b[0m \u001b[32m━━━━━━━━━━━━━━━━━━━━\u001b[0m\u001b[37m\u001b[0m \u001b[1m0s\u001b[0m 4ms/step - loss: 0.0053 - mean_absolute_error: 0.0497 - val_loss: 0.0077 - val_mean_absolute_error: 0.0628\n",
            "Epoch 64/300\n",
            "\u001b[1m31/31\u001b[0m \u001b[32m━━━━━━━━━━━━━━━━━━━━\u001b[0m\u001b[37m\u001b[0m \u001b[1m0s\u001b[0m 5ms/step - loss: 0.0078 - mean_absolute_error: 0.0530 - val_loss: 0.0078 - val_mean_absolute_error: 0.0623\n",
            "Epoch 65/300\n",
            "\u001b[1m31/31\u001b[0m \u001b[32m━━━━━━━━━━━━━━━━━━━━\u001b[0m\u001b[37m\u001b[0m \u001b[1m0s\u001b[0m 4ms/step - loss: 0.0054 - mean_absolute_error: 0.0522 - val_loss: 0.0079 - val_mean_absolute_error: 0.0621\n",
            "Epoch 66/300\n",
            "\u001b[1m31/31\u001b[0m \u001b[32m━━━━━━━━━━━━━━━━━━━━\u001b[0m\u001b[37m\u001b[0m \u001b[1m0s\u001b[0m 4ms/step - loss: 0.0052 - mean_absolute_error: 0.0486 - val_loss: 0.0077 - val_mean_absolute_error: 0.0630\n",
            "Epoch 67/300\n",
            "\u001b[1m31/31\u001b[0m \u001b[32m━━━━━━━━━━━━━━━━━━━━\u001b[0m\u001b[37m\u001b[0m \u001b[1m0s\u001b[0m 4ms/step - loss: 0.0049 - mean_absolute_error: 0.0486 - val_loss: 0.0079 - val_mean_absolute_error: 0.0621\n",
            "Epoch 68/300\n",
            "\u001b[1m31/31\u001b[0m \u001b[32m━━━━━━━━━━━━━━━━━━━━\u001b[0m\u001b[37m\u001b[0m \u001b[1m0s\u001b[0m 4ms/step - loss: 0.0066 - mean_absolute_error: 0.0517 - val_loss: 0.0082 - val_mean_absolute_error: 0.0613\n",
            "Epoch 69/300\n",
            "\u001b[1m31/31\u001b[0m \u001b[32m━━━━━━━━━━━━━━━━━━━━\u001b[0m\u001b[37m\u001b[0m \u001b[1m0s\u001b[0m 4ms/step - loss: 0.0061 - mean_absolute_error: 0.0487 - val_loss: 0.0079 - val_mean_absolute_error: 0.0619\n",
            "Epoch 70/300\n",
            "\u001b[1m31/31\u001b[0m \u001b[32m━━━━━━━━━━━━━━━━━━━━\u001b[0m\u001b[37m\u001b[0m \u001b[1m0s\u001b[0m 4ms/step - loss: 0.0054 - mean_absolute_error: 0.0482 - val_loss: 0.0078 - val_mean_absolute_error: 0.0621\n",
            "Epoch 71/300\n",
            "\u001b[1m31/31\u001b[0m \u001b[32m━━━━━━━━━━━━━━━━━━━━\u001b[0m\u001b[37m\u001b[0m \u001b[1m0s\u001b[0m 4ms/step - loss: 0.0052 - mean_absolute_error: 0.0474 - val_loss: 0.0077 - val_mean_absolute_error: 0.0630\n",
            "Epoch 72/300\n",
            "\u001b[1m31/31\u001b[0m \u001b[32m━━━━━━━━━━━━━━━━━━━━\u001b[0m\u001b[37m\u001b[0m \u001b[1m0s\u001b[0m 5ms/step - loss: 0.0057 - mean_absolute_error: 0.0504 - val_loss: 0.0078 - val_mean_absolute_error: 0.0623\n",
            "Epoch 73/300\n",
            "\u001b[1m31/31\u001b[0m \u001b[32m━━━━━━━━━━━━━━━━━━━━\u001b[0m\u001b[37m\u001b[0m \u001b[1m0s\u001b[0m 5ms/step - loss: 0.0062 - mean_absolute_error: 0.0530 - val_loss: 0.0081 - val_mean_absolute_error: 0.0617\n",
            "Epoch 74/300\n",
            "\u001b[1m31/31\u001b[0m \u001b[32m━━━━━━━━━━━━━━━━━━━━\u001b[0m\u001b[37m\u001b[0m \u001b[1m0s\u001b[0m 4ms/step - loss: 0.0056 - mean_absolute_error: 0.0471 - val_loss: 0.0079 - val_mean_absolute_error: 0.0619\n",
            "Epoch 75/300\n",
            "\u001b[1m31/31\u001b[0m \u001b[32m━━━━━━━━━━━━━━━━━━━━\u001b[0m\u001b[37m\u001b[0m \u001b[1m0s\u001b[0m 4ms/step - loss: 0.0055 - mean_absolute_error: 0.0506 - val_loss: 0.0077 - val_mean_absolute_error: 0.0630\n",
            "Epoch 76/300\n",
            "\u001b[1m31/31\u001b[0m \u001b[32m━━━━━━━━━━━━━━━━━━━━\u001b[0m\u001b[37m\u001b[0m \u001b[1m0s\u001b[0m 5ms/step - loss: 0.0068 - mean_absolute_error: 0.0547 - val_loss: 0.0082 - val_mean_absolute_error: 0.0615\n",
            "Epoch 77/300\n",
            "\u001b[1m31/31\u001b[0m \u001b[32m━━━━━━━━━━━━━━━━━━━━\u001b[0m\u001b[37m\u001b[0m \u001b[1m0s\u001b[0m 5ms/step - loss: 0.0067 - mean_absolute_error: 0.0509 - val_loss: 0.0080 - val_mean_absolute_error: 0.0616\n",
            "Epoch 78/300\n",
            "\u001b[1m31/31\u001b[0m \u001b[32m━━━━━━━━━━━━━━━━━━━━\u001b[0m\u001b[37m\u001b[0m \u001b[1m0s\u001b[0m 4ms/step - loss: 0.0065 - mean_absolute_error: 0.0500 - val_loss: 0.0081 - val_mean_absolute_error: 0.0614\n",
            "Epoch 79/300\n",
            "\u001b[1m31/31\u001b[0m \u001b[32m━━━━━━━━━━━━━━━━━━━━\u001b[0m\u001b[37m\u001b[0m \u001b[1m0s\u001b[0m 6ms/step - loss: 0.0063 - mean_absolute_error: 0.0489 - val_loss: 0.0077 - val_mean_absolute_error: 0.0628\n",
            "Epoch 80/300\n",
            "\u001b[1m31/31\u001b[0m \u001b[32m━━━━━━━━━━━━━━━━━━━━\u001b[0m\u001b[37m\u001b[0m \u001b[1m0s\u001b[0m 5ms/step - loss: 0.0053 - mean_absolute_error: 0.0516 - val_loss: 0.0078 - val_mean_absolute_error: 0.0625\n",
            "Epoch 81/300\n",
            "\u001b[1m31/31\u001b[0m \u001b[32m━━━━━━━━━━━━━━━━━━━━\u001b[0m\u001b[37m\u001b[0m \u001b[1m0s\u001b[0m 5ms/step - loss: 0.0053 - mean_absolute_error: 0.0483 - val_loss: 0.0077 - val_mean_absolute_error: 0.0633\n",
            "Epoch 82/300\n",
            "\u001b[1m31/31\u001b[0m \u001b[32m━━━━━━━━━━━━━━━━━━━━\u001b[0m\u001b[37m\u001b[0m \u001b[1m0s\u001b[0m 5ms/step - loss: 0.0077 - mean_absolute_error: 0.0523 - val_loss: 0.0080 - val_mean_absolute_error: 0.0617\n",
            "Epoch 83/300\n",
            "\u001b[1m31/31\u001b[0m \u001b[32m━━━━━━━━━━━━━━━━━━━━\u001b[0m\u001b[37m\u001b[0m \u001b[1m0s\u001b[0m 5ms/step - loss: 0.0051 - mean_absolute_error: 0.0472 - val_loss: 0.0076 - val_mean_absolute_error: 0.0634\n",
            "Epoch 84/300\n",
            "\u001b[1m31/31\u001b[0m \u001b[32m━━━━━━━━━━━━━━━━━━━━\u001b[0m\u001b[37m\u001b[0m \u001b[1m0s\u001b[0m 5ms/step - loss: 0.0064 - mean_absolute_error: 0.0507 - val_loss: 0.0078 - val_mean_absolute_error: 0.0624\n",
            "Epoch 85/300\n",
            "\u001b[1m31/31\u001b[0m \u001b[32m━━━━━━━━━━━━━━━━━━━━\u001b[0m\u001b[37m\u001b[0m \u001b[1m0s\u001b[0m 5ms/step - loss: 0.0077 - mean_absolute_error: 0.0530 - val_loss: 0.0079 - val_mean_absolute_error: 0.0621\n",
            "Epoch 86/300\n",
            "\u001b[1m31/31\u001b[0m \u001b[32m━━━━━━━━━━━━━━━━━━━━\u001b[0m\u001b[37m\u001b[0m \u001b[1m0s\u001b[0m 5ms/step - loss: 0.0086 - mean_absolute_error: 0.0545 - val_loss: 0.0079 - val_mean_absolute_error: 0.0617\n",
            "Epoch 87/300\n",
            "\u001b[1m31/31\u001b[0m \u001b[32m━━━━━━━━━━━━━━━━━━━━\u001b[0m\u001b[37m\u001b[0m \u001b[1m0s\u001b[0m 4ms/step - loss: 0.0052 - mean_absolute_error: 0.0488 - val_loss: 0.0080 - val_mean_absolute_error: 0.0615\n",
            "Epoch 88/300\n",
            "\u001b[1m31/31\u001b[0m \u001b[32m━━━━━━━━━━━━━━━━━━━━\u001b[0m\u001b[37m\u001b[0m \u001b[1m0s\u001b[0m 4ms/step - loss: 0.0064 - mean_absolute_error: 0.0505 - val_loss: 0.0080 - val_mean_absolute_error: 0.0616\n",
            "Epoch 89/300\n",
            "\u001b[1m31/31\u001b[0m \u001b[32m━━━━━━━━━━━━━━━━━━━━\u001b[0m\u001b[37m\u001b[0m \u001b[1m0s\u001b[0m 5ms/step - loss: 0.0058 - mean_absolute_error: 0.0494 - val_loss: 0.0079 - val_mean_absolute_error: 0.0619\n",
            "Epoch 90/300\n",
            "\u001b[1m31/31\u001b[0m \u001b[32m━━━━━━━━━━━━━━━━━━━━\u001b[0m\u001b[37m\u001b[0m \u001b[1m0s\u001b[0m 4ms/step - loss: 0.0062 - mean_absolute_error: 0.0507 - val_loss: 0.0081 - val_mean_absolute_error: 0.0614\n",
            "Epoch 91/300\n",
            "\u001b[1m31/31\u001b[0m \u001b[32m━━━━━━━━━━━━━━━━━━━━\u001b[0m\u001b[37m\u001b[0m \u001b[1m0s\u001b[0m 4ms/step - loss: 0.0059 - mean_absolute_error: 0.0504 - val_loss: 0.0081 - val_mean_absolute_error: 0.0615\n",
            "Epoch 92/300\n",
            "\u001b[1m31/31\u001b[0m \u001b[32m━━━━━━━━━━━━━━━━━━━━\u001b[0m\u001b[37m\u001b[0m \u001b[1m0s\u001b[0m 4ms/step - loss: 0.0080 - mean_absolute_error: 0.0520 - val_loss: 0.0082 - val_mean_absolute_error: 0.0615\n",
            "Epoch 93/300\n",
            "\u001b[1m31/31\u001b[0m \u001b[32m━━━━━━━━━━━━━━━━━━━━\u001b[0m\u001b[37m\u001b[0m \u001b[1m0s\u001b[0m 5ms/step - loss: 0.0053 - mean_absolute_error: 0.0499 - val_loss: 0.0077 - val_mean_absolute_error: 0.0626\n",
            "Epoch 94/300\n",
            "\u001b[1m31/31\u001b[0m \u001b[32m━━━━━━━━━━━━━━━━━━━━\u001b[0m\u001b[37m\u001b[0m \u001b[1m0s\u001b[0m 4ms/step - loss: 0.0068 - mean_absolute_error: 0.0529 - val_loss: 0.0082 - val_mean_absolute_error: 0.0614\n",
            "Epoch 95/300\n",
            "\u001b[1m31/31\u001b[0m \u001b[32m━━━━━━━━━━━━━━━━━━━━\u001b[0m\u001b[37m\u001b[0m \u001b[1m0s\u001b[0m 4ms/step - loss: 0.0050 - mean_absolute_error: 0.0480 - val_loss: 0.0078 - val_mean_absolute_error: 0.0624\n",
            "Epoch 96/300\n",
            "\u001b[1m31/31\u001b[0m \u001b[32m━━━━━━━━━━━━━━━━━━━━\u001b[0m\u001b[37m\u001b[0m \u001b[1m0s\u001b[0m 4ms/step - loss: 0.0071 - mean_absolute_error: 0.0538 - val_loss: 0.0080 - val_mean_absolute_error: 0.0616\n",
            "Epoch 97/300\n",
            "\u001b[1m31/31\u001b[0m \u001b[32m━━━━━━━━━━━━━━━━━━━━\u001b[0m\u001b[37m\u001b[0m \u001b[1m0s\u001b[0m 5ms/step - loss: 0.0062 - mean_absolute_error: 0.0485 - val_loss: 0.0076 - val_mean_absolute_error: 0.0634\n",
            "Epoch 98/300\n",
            "\u001b[1m31/31\u001b[0m \u001b[32m━━━━━━━━━━━━━━━━━━━━\u001b[0m\u001b[37m\u001b[0m \u001b[1m0s\u001b[0m 6ms/step - loss: 0.0051 - mean_absolute_error: 0.0506 - val_loss: 0.0077 - val_mean_absolute_error: 0.0633\n",
            "Epoch 99/300\n",
            "\u001b[1m31/31\u001b[0m \u001b[32m━━━━━━━━━━━━━━━━━━━━\u001b[0m\u001b[37m\u001b[0m \u001b[1m0s\u001b[0m 4ms/step - loss: 0.0050 - mean_absolute_error: 0.0469 - val_loss: 0.0078 - val_mean_absolute_error: 0.0624\n",
            "Epoch 100/300\n",
            "\u001b[1m31/31\u001b[0m \u001b[32m━━━━━━━━━━━━━━━━━━━━\u001b[0m\u001b[37m\u001b[0m \u001b[1m0s\u001b[0m 5ms/step - loss: 0.0072 - mean_absolute_error: 0.0526 - val_loss: 0.0080 - val_mean_absolute_error: 0.0621\n",
            "Epoch 101/300\n",
            "\u001b[1m31/31\u001b[0m \u001b[32m━━━━━━━━━━━━━━━━━━━━\u001b[0m\u001b[37m\u001b[0m \u001b[1m0s\u001b[0m 5ms/step - loss: 0.0046 - mean_absolute_error: 0.0467 - val_loss: 0.0079 - val_mean_absolute_error: 0.0619\n",
            "Epoch 102/300\n",
            "\u001b[1m31/31\u001b[0m \u001b[32m━━━━━━━━━━━━━━━━━━━━\u001b[0m\u001b[37m\u001b[0m \u001b[1m0s\u001b[0m 5ms/step - loss: 0.0063 - mean_absolute_error: 0.0506 - val_loss: 0.0078 - val_mean_absolute_error: 0.0621\n",
            "Epoch 103/300\n",
            "\u001b[1m31/31\u001b[0m \u001b[32m━━━━━━━━━━━━━━━━━━━━\u001b[0m\u001b[37m\u001b[0m \u001b[1m0s\u001b[0m 4ms/step - loss: 0.0066 - mean_absolute_error: 0.0521 - val_loss: 0.0078 - val_mean_absolute_error: 0.0622\n",
            "Epoch 104/300\n",
            "\u001b[1m31/31\u001b[0m \u001b[32m━━━━━━━━━━━━━━━━━━━━\u001b[0m\u001b[37m\u001b[0m \u001b[1m0s\u001b[0m 4ms/step - loss: 0.0059 - mean_absolute_error: 0.0491 - val_loss: 0.0082 - val_mean_absolute_error: 0.0613\n",
            "Epoch 105/300\n",
            "\u001b[1m31/31\u001b[0m \u001b[32m━━━━━━━━━━━━━━━━━━━━\u001b[0m\u001b[37m\u001b[0m \u001b[1m0s\u001b[0m 4ms/step - loss: 0.0055 - mean_absolute_error: 0.0477 - val_loss: 0.0079 - val_mean_absolute_error: 0.0617\n",
            "Epoch 106/300\n",
            "\u001b[1m31/31\u001b[0m \u001b[32m━━━━━━━━━━━━━━━━━━━━\u001b[0m\u001b[37m\u001b[0m \u001b[1m0s\u001b[0m 4ms/step - loss: 0.0053 - mean_absolute_error: 0.0486 - val_loss: 0.0078 - val_mean_absolute_error: 0.0622\n",
            "Epoch 107/300\n",
            "\u001b[1m31/31\u001b[0m \u001b[32m━━━━━━━━━━━━━━━━━━━━\u001b[0m\u001b[37m\u001b[0m \u001b[1m0s\u001b[0m 4ms/step - loss: 0.0066 - mean_absolute_error: 0.0508 - val_loss: 0.0079 - val_mean_absolute_error: 0.0617\n",
            "Epoch 108/300\n",
            "\u001b[1m31/31\u001b[0m \u001b[32m━━━━━━━━━━━━━━━━━━━━\u001b[0m\u001b[37m\u001b[0m \u001b[1m0s\u001b[0m 5ms/step - loss: 0.0063 - mean_absolute_error: 0.0504 - val_loss: 0.0077 - val_mean_absolute_error: 0.0625\n",
            "Epoch 109/300\n",
            "\u001b[1m31/31\u001b[0m \u001b[32m━━━━━━━━━━━━━━━━━━━━\u001b[0m\u001b[37m\u001b[0m \u001b[1m0s\u001b[0m 5ms/step - loss: 0.0051 - mean_absolute_error: 0.0508 - val_loss: 0.0078 - val_mean_absolute_error: 0.0622\n",
            "Epoch 110/300\n",
            "\u001b[1m31/31\u001b[0m \u001b[32m━━━━━━━━━━━━━━━━━━━━\u001b[0m\u001b[37m\u001b[0m \u001b[1m0s\u001b[0m 5ms/step - loss: 0.0053 - mean_absolute_error: 0.0493 - val_loss: 0.0078 - val_mean_absolute_error: 0.0625\n",
            "Epoch 111/300\n",
            "\u001b[1m31/31\u001b[0m \u001b[32m━━━━━━━━━━━━━━━━━━━━\u001b[0m\u001b[37m\u001b[0m \u001b[1m0s\u001b[0m 4ms/step - loss: 0.0064 - mean_absolute_error: 0.0504 - val_loss: 0.0079 - val_mean_absolute_error: 0.0618\n",
            "Epoch 112/300\n",
            "\u001b[1m31/31\u001b[0m \u001b[32m━━━━━━━━━━━━━━━━━━━━\u001b[0m\u001b[37m\u001b[0m \u001b[1m0s\u001b[0m 5ms/step - loss: 0.0071 - mean_absolute_error: 0.0500 - val_loss: 0.0079 - val_mean_absolute_error: 0.0617\n",
            "Epoch 113/300\n",
            "\u001b[1m31/31\u001b[0m \u001b[32m━━━━━━━━━━━━━━━━━━━━\u001b[0m\u001b[37m\u001b[0m \u001b[1m0s\u001b[0m 6ms/step - loss: 0.0065 - mean_absolute_error: 0.0509 - val_loss: 0.0081 - val_mean_absolute_error: 0.0619\n",
            "Epoch 114/300\n",
            "\u001b[1m31/31\u001b[0m \u001b[32m━━━━━━━━━━━━━━━━━━━━\u001b[0m\u001b[37m\u001b[0m \u001b[1m0s\u001b[0m 5ms/step - loss: 0.0060 - mean_absolute_error: 0.0506 - val_loss: 0.0080 - val_mean_absolute_error: 0.0616\n",
            "Epoch 115/300\n",
            "\u001b[1m31/31\u001b[0m \u001b[32m━━━━━━━━━━━━━━━━━━━━\u001b[0m\u001b[37m\u001b[0m \u001b[1m0s\u001b[0m 5ms/step - loss: 0.0058 - mean_absolute_error: 0.0480 - val_loss: 0.0077 - val_mean_absolute_error: 0.0630\n",
            "Epoch 116/300\n",
            "\u001b[1m31/31\u001b[0m \u001b[32m━━━━━━━━━━━━━━━━━━━━\u001b[0m\u001b[37m\u001b[0m \u001b[1m0s\u001b[0m 5ms/step - loss: 0.0073 - mean_absolute_error: 0.0543 - val_loss: 0.0079 - val_mean_absolute_error: 0.0618\n",
            "Epoch 117/300\n",
            "\u001b[1m31/31\u001b[0m \u001b[32m━━━━━━━━━━━━━━━━━━━━\u001b[0m\u001b[37m\u001b[0m \u001b[1m0s\u001b[0m 4ms/step - loss: 0.0076 - mean_absolute_error: 0.0562 - val_loss: 0.0082 - val_mean_absolute_error: 0.0615\n",
            "Epoch 118/300\n",
            "\u001b[1m31/31\u001b[0m \u001b[32m━━━━━━━━━━━━━━━━━━━━\u001b[0m\u001b[37m\u001b[0m \u001b[1m0s\u001b[0m 4ms/step - loss: 0.0047 - mean_absolute_error: 0.0457 - val_loss: 0.0078 - val_mean_absolute_error: 0.0623\n",
            "Epoch 119/300\n",
            "\u001b[1m31/31\u001b[0m \u001b[32m━━━━━━━━━━━━━━━━━━━━\u001b[0m\u001b[37m\u001b[0m \u001b[1m0s\u001b[0m 4ms/step - loss: 0.0055 - mean_absolute_error: 0.0487 - val_loss: 0.0077 - val_mean_absolute_error: 0.0624\n",
            "Epoch 120/300\n",
            "\u001b[1m31/31\u001b[0m \u001b[32m━━━━━━━━━━━━━━━━━━━━\u001b[0m\u001b[37m\u001b[0m \u001b[1m0s\u001b[0m 4ms/step - loss: 0.0064 - mean_absolute_error: 0.0517 - val_loss: 0.0078 - val_mean_absolute_error: 0.0619\n",
            "Epoch 121/300\n",
            "\u001b[1m31/31\u001b[0m \u001b[32m━━━━━━━━━━━━━━━━━━━━\u001b[0m\u001b[37m\u001b[0m \u001b[1m0s\u001b[0m 4ms/step - loss: 0.0063 - mean_absolute_error: 0.0540 - val_loss: 0.0079 - val_mean_absolute_error: 0.0618\n",
            "Epoch 122/300\n",
            "\u001b[1m31/31\u001b[0m \u001b[32m━━━━━━━━━━━━━━━━━━━━\u001b[0m\u001b[37m\u001b[0m \u001b[1m0s\u001b[0m 4ms/step - loss: 0.0072 - mean_absolute_error: 0.0542 - val_loss: 0.0080 - val_mean_absolute_error: 0.0615\n",
            "Epoch 123/300\n",
            "\u001b[1m31/31\u001b[0m \u001b[32m━━━━━━━━━━━━━━━━━━━━\u001b[0m\u001b[37m\u001b[0m \u001b[1m0s\u001b[0m 4ms/step - loss: 0.0053 - mean_absolute_error: 0.0493 - val_loss: 0.0078 - val_mean_absolute_error: 0.0619\n",
            "Epoch 124/300\n",
            "\u001b[1m31/31\u001b[0m \u001b[32m━━━━━━━━━━━━━━━━━━━━\u001b[0m\u001b[37m\u001b[0m \u001b[1m0s\u001b[0m 4ms/step - loss: 0.0056 - mean_absolute_error: 0.0506 - val_loss: 0.0077 - val_mean_absolute_error: 0.0624\n",
            "Epoch 125/300\n",
            "\u001b[1m31/31\u001b[0m \u001b[32m━━━━━━━━━━━━━━━━━━━━\u001b[0m\u001b[37m\u001b[0m \u001b[1m0s\u001b[0m 4ms/step - loss: 0.0079 - mean_absolute_error: 0.0522 - val_loss: 0.0078 - val_mean_absolute_error: 0.0622\n",
            "Epoch 126/300\n",
            "\u001b[1m31/31\u001b[0m \u001b[32m━━━━━━━━━━━━━━━━━━━━\u001b[0m\u001b[37m\u001b[0m \u001b[1m0s\u001b[0m 6ms/step - loss: 0.0082 - mean_absolute_error: 0.0548 - val_loss: 0.0080 - val_mean_absolute_error: 0.0618\n",
            "Epoch 127/300\n",
            "\u001b[1m31/31\u001b[0m \u001b[32m━━━━━━━━━━━━━━━━━━━━\u001b[0m\u001b[37m\u001b[0m \u001b[1m0s\u001b[0m 8ms/step - loss: 0.0048 - mean_absolute_error: 0.0485 - val_loss: 0.0080 - val_mean_absolute_error: 0.0615\n",
            "Epoch 128/300\n",
            "\u001b[1m31/31\u001b[0m \u001b[32m━━━━━━━━━━━━━━━━━━━━\u001b[0m\u001b[37m\u001b[0m \u001b[1m0s\u001b[0m 9ms/step - loss: 0.0065 - mean_absolute_error: 0.0535 - val_loss: 0.0079 - val_mean_absolute_error: 0.0619\n",
            "Epoch 129/300\n",
            "\u001b[1m31/31\u001b[0m \u001b[32m━━━━━━━━━━━━━━━━━━━━\u001b[0m\u001b[37m\u001b[0m \u001b[1m0s\u001b[0m 9ms/step - loss: 0.0054 - mean_absolute_error: 0.0498 - val_loss: 0.0080 - val_mean_absolute_error: 0.0615\n",
            "Epoch 130/300\n",
            "\u001b[1m31/31\u001b[0m \u001b[32m━━━━━━━━━━━━━━━━━━━━\u001b[0m\u001b[37m\u001b[0m \u001b[1m0s\u001b[0m 6ms/step - loss: 0.0060 - mean_absolute_error: 0.0500 - val_loss: 0.0080 - val_mean_absolute_error: 0.0615\n",
            "Epoch 131/300\n",
            "\u001b[1m31/31\u001b[0m \u001b[32m━━━━━━━━━━━━━━━━━━━━\u001b[0m\u001b[37m\u001b[0m \u001b[1m0s\u001b[0m 6ms/step - loss: 0.0058 - mean_absolute_error: 0.0498 - val_loss: 0.0079 - val_mean_absolute_error: 0.0618\n",
            "Epoch 132/300\n",
            "\u001b[1m31/31\u001b[0m \u001b[32m━━━━━━━━━━━━━━━━━━━━\u001b[0m\u001b[37m\u001b[0m \u001b[1m0s\u001b[0m 5ms/step - loss: 0.0061 - mean_absolute_error: 0.0514 - val_loss: 0.0079 - val_mean_absolute_error: 0.0617\n",
            "Epoch 133/300\n",
            "\u001b[1m31/31\u001b[0m \u001b[32m━━━━━━━━━━━━━━━━━━━━\u001b[0m\u001b[37m\u001b[0m \u001b[1m0s\u001b[0m 5ms/step - loss: 0.0052 - mean_absolute_error: 0.0481 - val_loss: 0.0077 - val_mean_absolute_error: 0.0627\n",
            "Epoch 134/300\n",
            "\u001b[1m31/31\u001b[0m \u001b[32m━━━━━━━━━━━━━━━━━━━━\u001b[0m\u001b[37m\u001b[0m \u001b[1m0s\u001b[0m 6ms/step - loss: 0.0053 - mean_absolute_error: 0.0512 - val_loss: 0.0077 - val_mean_absolute_error: 0.0624\n",
            "Epoch 135/300\n",
            "\u001b[1m31/31\u001b[0m \u001b[32m━━━━━━━━━━━━━━━━━━━━\u001b[0m\u001b[37m\u001b[0m \u001b[1m0s\u001b[0m 9ms/step - loss: 0.0057 - mean_absolute_error: 0.0504 - val_loss: 0.0076 - val_mean_absolute_error: 0.0633\n",
            "Epoch 136/300\n",
            "\u001b[1m31/31\u001b[0m \u001b[32m━━━━━━━━━━━━━━━━━━━━\u001b[0m\u001b[37m\u001b[0m \u001b[1m0s\u001b[0m 4ms/step - loss: 0.0053 - mean_absolute_error: 0.0486 - val_loss: 0.0078 - val_mean_absolute_error: 0.0622\n",
            "Epoch 137/300\n",
            "\u001b[1m31/31\u001b[0m \u001b[32m━━━━━━━━━━━━━━━━━━━━\u001b[0m\u001b[37m\u001b[0m \u001b[1m0s\u001b[0m 4ms/step - loss: 0.0063 - mean_absolute_error: 0.0524 - val_loss: 0.0078 - val_mean_absolute_error: 0.0623\n",
            "Epoch 138/300\n",
            "\u001b[1m31/31\u001b[0m \u001b[32m━━━━━━━━━━━━━━━━━━━━\u001b[0m\u001b[37m\u001b[0m \u001b[1m0s\u001b[0m 4ms/step - loss: 0.0059 - mean_absolute_error: 0.0521 - val_loss: 0.0081 - val_mean_absolute_error: 0.0616\n",
            "Epoch 139/300\n",
            "\u001b[1m31/31\u001b[0m \u001b[32m━━━━━━━━━━━━━━━━━━━━\u001b[0m\u001b[37m\u001b[0m \u001b[1m0s\u001b[0m 4ms/step - loss: 0.0061 - mean_absolute_error: 0.0514 - val_loss: 0.0080 - val_mean_absolute_error: 0.0616\n",
            "Epoch 140/300\n",
            "\u001b[1m31/31\u001b[0m \u001b[32m━━━━━━━━━━━━━━━━━━━━\u001b[0m\u001b[37m\u001b[0m \u001b[1m0s\u001b[0m 4ms/step - loss: 0.0051 - mean_absolute_error: 0.0485 - val_loss: 0.0077 - val_mean_absolute_error: 0.0623\n",
            "Epoch 141/300\n",
            "\u001b[1m31/31\u001b[0m \u001b[32m━━━━━━━━━━━━━━━━━━━━\u001b[0m\u001b[37m\u001b[0m \u001b[1m0s\u001b[0m 4ms/step - loss: 0.0058 - mean_absolute_error: 0.0510 - val_loss: 0.0077 - val_mean_absolute_error: 0.0624\n",
            "Epoch 142/300\n",
            "\u001b[1m31/31\u001b[0m \u001b[32m━━━━━━━━━━━━━━━━━━━━\u001b[0m\u001b[37m\u001b[0m \u001b[1m0s\u001b[0m 4ms/step - loss: 0.0062 - mean_absolute_error: 0.0510 - val_loss: 0.0079 - val_mean_absolute_error: 0.0618\n",
            "Epoch 143/300\n",
            "\u001b[1m31/31\u001b[0m \u001b[32m━━━━━━━━━━━━━━━━━━━━\u001b[0m\u001b[37m\u001b[0m \u001b[1m0s\u001b[0m 4ms/step - loss: 0.0070 - mean_absolute_error: 0.0515 - val_loss: 0.0077 - val_mean_absolute_error: 0.0624\n",
            "Epoch 144/300\n",
            "\u001b[1m31/31\u001b[0m \u001b[32m━━━━━━━━━━━━━━━━━━━━\u001b[0m\u001b[37m\u001b[0m \u001b[1m0s\u001b[0m 4ms/step - loss: 0.0065 - mean_absolute_error: 0.0518 - val_loss: 0.0078 - val_mean_absolute_error: 0.0620\n",
            "Epoch 145/300\n",
            "\u001b[1m31/31\u001b[0m \u001b[32m━━━━━━━━━━━━━━━━━━━━\u001b[0m\u001b[37m\u001b[0m \u001b[1m0s\u001b[0m 4ms/step - loss: 0.0064 - mean_absolute_error: 0.0513 - val_loss: 0.0081 - val_mean_absolute_error: 0.0618\n",
            "Epoch 146/300\n",
            "\u001b[1m31/31\u001b[0m \u001b[32m━━━━━━━━━━━━━━━━━━━━\u001b[0m\u001b[37m\u001b[0m \u001b[1m0s\u001b[0m 4ms/step - loss: 0.0056 - mean_absolute_error: 0.0490 - val_loss: 0.0079 - val_mean_absolute_error: 0.0616\n",
            "Epoch 147/300\n",
            "\u001b[1m31/31\u001b[0m \u001b[32m━━━━━━━━━━━━━━━━━━━━\u001b[0m\u001b[37m\u001b[0m \u001b[1m0s\u001b[0m 5ms/step - loss: 0.0072 - mean_absolute_error: 0.0500 - val_loss: 0.0078 - val_mean_absolute_error: 0.0620\n",
            "Epoch 148/300\n",
            "\u001b[1m31/31\u001b[0m \u001b[32m━━━━━━━━━━━━━━━━━━━━\u001b[0m\u001b[37m\u001b[0m \u001b[1m0s\u001b[0m 6ms/step - loss: 0.0055 - mean_absolute_error: 0.0483 - val_loss: 0.0078 - val_mean_absolute_error: 0.0621\n",
            "Epoch 149/300\n",
            "\u001b[1m31/31\u001b[0m \u001b[32m━━━━━━━━━━━━━━━━━━━━\u001b[0m\u001b[37m\u001b[0m \u001b[1m0s\u001b[0m 5ms/step - loss: 0.0065 - mean_absolute_error: 0.0528 - val_loss: 0.0080 - val_mean_absolute_error: 0.0616\n",
            "Epoch 150/300\n",
            "\u001b[1m31/31\u001b[0m \u001b[32m━━━━━━━━━━━━━━━━━━━━\u001b[0m\u001b[37m\u001b[0m \u001b[1m0s\u001b[0m 5ms/step - loss: 0.0056 - mean_absolute_error: 0.0504 - val_loss: 0.0078 - val_mean_absolute_error: 0.0618\n",
            "Epoch 151/300\n",
            "\u001b[1m31/31\u001b[0m \u001b[32m━━━━━━━━━━━━━━━━━━━━\u001b[0m\u001b[37m\u001b[0m \u001b[1m0s\u001b[0m 5ms/step - loss: 0.0071 - mean_absolute_error: 0.0536 - val_loss: 0.0079 - val_mean_absolute_error: 0.0618\n",
            "Epoch 152/300\n",
            "\u001b[1m31/31\u001b[0m \u001b[32m━━━━━━━━━━━━━━━━━━━━\u001b[0m\u001b[37m\u001b[0m \u001b[1m0s\u001b[0m 5ms/step - loss: 0.0054 - mean_absolute_error: 0.0492 - val_loss: 0.0077 - val_mean_absolute_error: 0.0624\n",
            "Epoch 153/300\n",
            "\u001b[1m31/31\u001b[0m \u001b[32m━━━━━━━━━━━━━━━━━━━━\u001b[0m\u001b[37m\u001b[0m \u001b[1m0s\u001b[0m 6ms/step - loss: 0.0054 - mean_absolute_error: 0.0482 - val_loss: 0.0078 - val_mean_absolute_error: 0.0623\n",
            "Epoch 154/300\n",
            "\u001b[1m31/31\u001b[0m \u001b[32m━━━━━━━━━━━━━━━━━━━━\u001b[0m\u001b[37m\u001b[0m \u001b[1m0s\u001b[0m 6ms/step - loss: 0.0071 - mean_absolute_error: 0.0522 - val_loss: 0.0078 - val_mean_absolute_error: 0.0625\n",
            "Epoch 155/300\n",
            "\u001b[1m31/31\u001b[0m \u001b[32m━━━━━━━━━━━━━━━━━━━━\u001b[0m\u001b[37m\u001b[0m \u001b[1m0s\u001b[0m 5ms/step - loss: 0.0053 - mean_absolute_error: 0.0489 - val_loss: 0.0078 - val_mean_absolute_error: 0.0623\n",
            "Epoch 156/300\n",
            "\u001b[1m31/31\u001b[0m \u001b[32m━━━━━━━━━━━━━━━━━━━━\u001b[0m\u001b[37m\u001b[0m \u001b[1m0s\u001b[0m 5ms/step - loss: 0.0083 - mean_absolute_error: 0.0529 - val_loss: 0.0078 - val_mean_absolute_error: 0.0624\n",
            "Epoch 157/300\n",
            "\u001b[1m31/31\u001b[0m \u001b[32m━━━━━━━━━━━━━━━━━━━━\u001b[0m\u001b[37m\u001b[0m \u001b[1m0s\u001b[0m 6ms/step - loss: 0.0055 - mean_absolute_error: 0.0493 - val_loss: 0.0077 - val_mean_absolute_error: 0.0623\n",
            "Epoch 158/300\n",
            "\u001b[1m31/31\u001b[0m \u001b[32m━━━━━━━━━━━━━━━━━━━━\u001b[0m\u001b[37m\u001b[0m \u001b[1m0s\u001b[0m 4ms/step - loss: 0.0064 - mean_absolute_error: 0.0517 - val_loss: 0.0079 - val_mean_absolute_error: 0.0618\n",
            "Epoch 159/300\n",
            "\u001b[1m31/31\u001b[0m \u001b[32m━━━━━━━━━━━━━━━━━━━━\u001b[0m\u001b[37m\u001b[0m \u001b[1m0s\u001b[0m 5ms/step - loss: 0.0053 - mean_absolute_error: 0.0492 - val_loss: 0.0077 - val_mean_absolute_error: 0.0629\n",
            "Epoch 160/300\n",
            "\u001b[1m31/31\u001b[0m \u001b[32m━━━━━━━━━━━━━━━━━━━━\u001b[0m\u001b[37m\u001b[0m \u001b[1m0s\u001b[0m 5ms/step - loss: 0.0081 - mean_absolute_error: 0.0525 - val_loss: 0.0077 - val_mean_absolute_error: 0.0624\n",
            "Epoch 161/300\n",
            "\u001b[1m31/31\u001b[0m \u001b[32m━━━━━━━━━━━━━━━━━━━━\u001b[0m\u001b[37m\u001b[0m \u001b[1m0s\u001b[0m 5ms/step - loss: 0.0058 - mean_absolute_error: 0.0512 - val_loss: 0.0080 - val_mean_absolute_error: 0.0616\n",
            "Epoch 162/300\n",
            "\u001b[1m31/31\u001b[0m \u001b[32m━━━━━━━━━━━━━━━━━━━━\u001b[0m\u001b[37m\u001b[0m \u001b[1m0s\u001b[0m 4ms/step - loss: 0.0054 - mean_absolute_error: 0.0483 - val_loss: 0.0077 - val_mean_absolute_error: 0.0625\n",
            "Epoch 163/300\n",
            "\u001b[1m31/31\u001b[0m \u001b[32m━━━━━━━━━━━━━━━━━━━━\u001b[0m\u001b[37m\u001b[0m \u001b[1m0s\u001b[0m 5ms/step - loss: 0.0054 - mean_absolute_error: 0.0486 - val_loss: 0.0077 - val_mean_absolute_error: 0.0628\n",
            "Epoch 164/300\n",
            "\u001b[1m31/31\u001b[0m \u001b[32m━━━━━━━━━━━━━━━━━━━━\u001b[0m\u001b[37m\u001b[0m \u001b[1m0s\u001b[0m 5ms/step - loss: 0.0078 - mean_absolute_error: 0.0509 - val_loss: 0.0077 - val_mean_absolute_error: 0.0627\n",
            "Epoch 165/300\n",
            "\u001b[1m31/31\u001b[0m \u001b[32m━━━━━━━━━━━━━━━━━━━━\u001b[0m\u001b[37m\u001b[0m \u001b[1m0s\u001b[0m 5ms/step - loss: 0.0068 - mean_absolute_error: 0.0532 - val_loss: 0.0079 - val_mean_absolute_error: 0.0617\n",
            "Epoch 166/300\n",
            "\u001b[1m31/31\u001b[0m \u001b[32m━━━━━━━━━━━━━━━━━━━━\u001b[0m\u001b[37m\u001b[0m \u001b[1m0s\u001b[0m 5ms/step - loss: 0.0063 - mean_absolute_error: 0.0513 - val_loss: 0.0080 - val_mean_absolute_error: 0.0616\n",
            "Epoch 167/300\n",
            "\u001b[1m31/31\u001b[0m \u001b[32m━━━━━━━━━━━━━━━━━━━━\u001b[0m\u001b[37m\u001b[0m \u001b[1m0s\u001b[0m 5ms/step - loss: 0.0050 - mean_absolute_error: 0.0470 - val_loss: 0.0078 - val_mean_absolute_error: 0.0621\n",
            "Epoch 168/300\n",
            "\u001b[1m31/31\u001b[0m \u001b[32m━━━━━━━━━━━━━━━━━━━━\u001b[0m\u001b[37m\u001b[0m \u001b[1m0s\u001b[0m 5ms/step - loss: 0.0079 - mean_absolute_error: 0.0525 - val_loss: 0.0078 - val_mean_absolute_error: 0.0623\n",
            "Epoch 169/300\n",
            "\u001b[1m31/31\u001b[0m \u001b[32m━━━━━━━━━━━━━━━━━━━━\u001b[0m\u001b[37m\u001b[0m \u001b[1m0s\u001b[0m 5ms/step - loss: 0.0064 - mean_absolute_error: 0.0538 - val_loss: 0.0079 - val_mean_absolute_error: 0.0618\n",
            "Epoch 170/300\n",
            "\u001b[1m31/31\u001b[0m \u001b[32m━━━━━━━━━━━━━━━━━━━━\u001b[0m\u001b[37m\u001b[0m \u001b[1m0s\u001b[0m 5ms/step - loss: 0.0062 - mean_absolute_error: 0.0513 - val_loss: 0.0079 - val_mean_absolute_error: 0.0618\n",
            "Epoch 171/300\n",
            "\u001b[1m31/31\u001b[0m \u001b[32m━━━━━━━━━━━━━━━━━━━━\u001b[0m\u001b[37m\u001b[0m \u001b[1m0s\u001b[0m 5ms/step - loss: 0.0079 - mean_absolute_error: 0.0511 - val_loss: 0.0077 - val_mean_absolute_error: 0.0624\n",
            "Epoch 172/300\n",
            "\u001b[1m31/31\u001b[0m \u001b[32m━━━━━━━━━━━━━━━━━━━━\u001b[0m\u001b[37m\u001b[0m \u001b[1m0s\u001b[0m 5ms/step - loss: 0.0054 - mean_absolute_error: 0.0488 - val_loss: 0.0078 - val_mean_absolute_error: 0.0623\n",
            "Epoch 173/300\n",
            "\u001b[1m31/31\u001b[0m \u001b[32m━━━━━━━━━━━━━━━━━━━━\u001b[0m\u001b[37m\u001b[0m \u001b[1m0s\u001b[0m 5ms/step - loss: 0.0060 - mean_absolute_error: 0.0503 - val_loss: 0.0078 - val_mean_absolute_error: 0.0622\n",
            "Epoch 174/300\n",
            "\u001b[1m31/31\u001b[0m \u001b[32m━━━━━━━━━━━━━━━━━━━━\u001b[0m\u001b[37m\u001b[0m \u001b[1m0s\u001b[0m 5ms/step - loss: 0.0054 - mean_absolute_error: 0.0497 - val_loss: 0.0077 - val_mean_absolute_error: 0.0624\n",
            "Epoch 175/300\n",
            "\u001b[1m31/31\u001b[0m \u001b[32m━━━━━━━━━━━━━━━━━━━━\u001b[0m\u001b[37m\u001b[0m \u001b[1m0s\u001b[0m 5ms/step - loss: 0.0051 - mean_absolute_error: 0.0486 - val_loss: 0.0078 - val_mean_absolute_error: 0.0623\n",
            "Epoch 176/300\n",
            "\u001b[1m31/31\u001b[0m \u001b[32m━━━━━━━━━━━━━━━━━━━━\u001b[0m\u001b[37m\u001b[0m \u001b[1m0s\u001b[0m 6ms/step - loss: 0.0061 - mean_absolute_error: 0.0529 - val_loss: 0.0081 - val_mean_absolute_error: 0.0619\n",
            "Epoch 177/300\n",
            "\u001b[1m31/31\u001b[0m \u001b[32m━━━━━━━━━━━━━━━━━━━━\u001b[0m\u001b[37m\u001b[0m \u001b[1m0s\u001b[0m 5ms/step - loss: 0.0065 - mean_absolute_error: 0.0516 - val_loss: 0.0081 - val_mean_absolute_error: 0.0616\n",
            "Epoch 178/300\n",
            "\u001b[1m31/31\u001b[0m \u001b[32m━━━━━━━━━━━━━━━━━━━━\u001b[0m\u001b[37m\u001b[0m \u001b[1m0s\u001b[0m 5ms/step - loss: 0.0065 - mean_absolute_error: 0.0504 - val_loss: 0.0079 - val_mean_absolute_error: 0.0619\n",
            "Epoch 179/300\n",
            "\u001b[1m31/31\u001b[0m \u001b[32m━━━━━━━━━━━━━━━━━━━━\u001b[0m\u001b[37m\u001b[0m \u001b[1m0s\u001b[0m 5ms/step - loss: 0.0060 - mean_absolute_error: 0.0492 - val_loss: 0.0077 - val_mean_absolute_error: 0.0626\n",
            "Epoch 180/300\n",
            "\u001b[1m31/31\u001b[0m \u001b[32m━━━━━━━━━━━━━━━━━━━━\u001b[0m\u001b[37m\u001b[0m \u001b[1m0s\u001b[0m 5ms/step - loss: 0.0058 - mean_absolute_error: 0.0508 - val_loss: 0.0077 - val_mean_absolute_error: 0.0627\n",
            "Epoch 181/300\n",
            "\u001b[1m31/31\u001b[0m \u001b[32m━━━━━━━━━━━━━━━━━━━━\u001b[0m\u001b[37m\u001b[0m \u001b[1m0s\u001b[0m 4ms/step - loss: 0.0088 - mean_absolute_error: 0.0567 - val_loss: 0.0080 - val_mean_absolute_error: 0.0617\n",
            "Epoch 182/300\n",
            "\u001b[1m31/31\u001b[0m \u001b[32m━━━━━━━━━━━━━━━━━━━━\u001b[0m\u001b[37m\u001b[0m \u001b[1m0s\u001b[0m 5ms/step - loss: 0.0065 - mean_absolute_error: 0.0498 - val_loss: 0.0078 - val_mean_absolute_error: 0.0622\n",
            "Epoch 183/300\n",
            "\u001b[1m31/31\u001b[0m \u001b[32m━━━━━━━━━━━━━━━━━━━━\u001b[0m\u001b[37m\u001b[0m \u001b[1m0s\u001b[0m 5ms/step - loss: 0.0062 - mean_absolute_error: 0.0513 - val_loss: 0.0079 - val_mean_absolute_error: 0.0617\n",
            "Epoch 184/300\n",
            "\u001b[1m31/31\u001b[0m \u001b[32m━━━━━━━━━━━━━━━━━━━━\u001b[0m\u001b[37m\u001b[0m \u001b[1m0s\u001b[0m 5ms/step - loss: 0.0078 - mean_absolute_error: 0.0506 - val_loss: 0.0079 - val_mean_absolute_error: 0.0617\n",
            "Epoch 185/300\n",
            "\u001b[1m31/31\u001b[0m \u001b[32m━━━━━━━━━━━━━━━━━━━━\u001b[0m\u001b[37m\u001b[0m \u001b[1m0s\u001b[0m 5ms/step - loss: 0.0063 - mean_absolute_error: 0.0522 - val_loss: 0.0080 - val_mean_absolute_error: 0.0616\n",
            "Epoch 186/300\n",
            "\u001b[1m31/31\u001b[0m \u001b[32m━━━━━━━━━━━━━━━━━━━━\u001b[0m\u001b[37m\u001b[0m \u001b[1m0s\u001b[0m 5ms/step - loss: 0.0060 - mean_absolute_error: 0.0501 - val_loss: 0.0078 - val_mean_absolute_error: 0.0621\n",
            "Epoch 187/300\n",
            "\u001b[1m31/31\u001b[0m \u001b[32m━━━━━━━━━━━━━━━━━━━━\u001b[0m\u001b[37m\u001b[0m \u001b[1m0s\u001b[0m 5ms/step - loss: 0.0074 - mean_absolute_error: 0.0524 - val_loss: 0.0078 - val_mean_absolute_error: 0.0618\n",
            "Epoch 188/300\n",
            "\u001b[1m31/31\u001b[0m \u001b[32m━━━━━━━━━━━━━━━━━━━━\u001b[0m\u001b[37m\u001b[0m \u001b[1m0s\u001b[0m 5ms/step - loss: 0.0052 - mean_absolute_error: 0.0490 - val_loss: 0.0077 - val_mean_absolute_error: 0.0624\n",
            "Epoch 189/300\n",
            "\u001b[1m31/31\u001b[0m \u001b[32m━━━━━━━━━━━━━━━━━━━━\u001b[0m\u001b[37m\u001b[0m \u001b[1m0s\u001b[0m 5ms/step - loss: 0.0061 - mean_absolute_error: 0.0530 - val_loss: 0.0078 - val_mean_absolute_error: 0.0620\n",
            "Epoch 190/300\n",
            "\u001b[1m31/31\u001b[0m \u001b[32m━━━━━━━━━━━━━━━━━━━━\u001b[0m\u001b[37m\u001b[0m \u001b[1m0s\u001b[0m 5ms/step - loss: 0.0061 - mean_absolute_error: 0.0518 - val_loss: 0.0080 - val_mean_absolute_error: 0.0619\n",
            "Epoch 191/300\n",
            "\u001b[1m31/31\u001b[0m \u001b[32m━━━━━━━━━━━━━━━━━━━━\u001b[0m\u001b[37m\u001b[0m \u001b[1m0s\u001b[0m 4ms/step - loss: 0.0051 - mean_absolute_error: 0.0474 - val_loss: 0.0078 - val_mean_absolute_error: 0.0621\n",
            "Epoch 192/300\n",
            "\u001b[1m31/31\u001b[0m \u001b[32m━━━━━━━━━━━━━━━━━━━━\u001b[0m\u001b[37m\u001b[0m \u001b[1m0s\u001b[0m 4ms/step - loss: 0.0064 - mean_absolute_error: 0.0525 - val_loss: 0.0077 - val_mean_absolute_error: 0.0622\n",
            "Epoch 193/300\n",
            "\u001b[1m31/31\u001b[0m \u001b[32m━━━━━━━━━━━━━━━━━━━━\u001b[0m\u001b[37m\u001b[0m \u001b[1m0s\u001b[0m 5ms/step - loss: 0.0082 - mean_absolute_error: 0.0555 - val_loss: 0.0084 - val_mean_absolute_error: 0.0617\n",
            "Epoch 194/300\n",
            "\u001b[1m31/31\u001b[0m \u001b[32m━━━━━━━━━━━━━━━━━━━━\u001b[0m\u001b[37m\u001b[0m \u001b[1m0s\u001b[0m 5ms/step - loss: 0.0063 - mean_absolute_error: 0.0505 - val_loss: 0.0078 - val_mean_absolute_error: 0.0621\n",
            "Epoch 195/300\n",
            "\u001b[1m31/31\u001b[0m \u001b[32m━━━━━━━━━━━━━━━━━━━━\u001b[0m\u001b[37m\u001b[0m \u001b[1m0s\u001b[0m 6ms/step - loss: 0.0055 - mean_absolute_error: 0.0494 - val_loss: 0.0077 - val_mean_absolute_error: 0.0623\n",
            "Epoch 196/300\n",
            "\u001b[1m31/31\u001b[0m \u001b[32m━━━━━━━━━━━━━━━━━━━━\u001b[0m\u001b[37m\u001b[0m \u001b[1m0s\u001b[0m 5ms/step - loss: 0.0059 - mean_absolute_error: 0.0500 - val_loss: 0.0080 - val_mean_absolute_error: 0.0617\n",
            "Epoch 197/300\n",
            "\u001b[1m31/31\u001b[0m \u001b[32m━━━━━━━━━━━━━━━━━━━━\u001b[0m\u001b[37m\u001b[0m \u001b[1m0s\u001b[0m 5ms/step - loss: 0.0051 - mean_absolute_error: 0.0489 - val_loss: 0.0078 - val_mean_absolute_error: 0.0620\n",
            "Epoch 198/300\n",
            "\u001b[1m31/31\u001b[0m \u001b[32m━━━━━━━━━━━━━━━━━━━━\u001b[0m\u001b[37m\u001b[0m \u001b[1m0s\u001b[0m 5ms/step - loss: 0.0064 - mean_absolute_error: 0.0486 - val_loss: 0.0078 - val_mean_absolute_error: 0.0622\n",
            "Epoch 199/300\n",
            "\u001b[1m31/31\u001b[0m \u001b[32m━━━━━━━━━━━━━━━━━━━━\u001b[0m\u001b[37m\u001b[0m \u001b[1m0s\u001b[0m 5ms/step - loss: 0.0053 - mean_absolute_error: 0.0486 - val_loss: 0.0078 - val_mean_absolute_error: 0.0621\n",
            "Epoch 200/300\n",
            "\u001b[1m31/31\u001b[0m \u001b[32m━━━━━━━━━━━━━━━━━━━━\u001b[0m\u001b[37m\u001b[0m \u001b[1m0s\u001b[0m 5ms/step - loss: 0.0055 - mean_absolute_error: 0.0496 - val_loss: 0.0078 - val_mean_absolute_error: 0.0621\n",
            "Epoch 201/300\n",
            "\u001b[1m31/31\u001b[0m \u001b[32m━━━━━━━━━━━━━━━━━━━━\u001b[0m\u001b[37m\u001b[0m \u001b[1m0s\u001b[0m 5ms/step - loss: 0.0078 - mean_absolute_error: 0.0537 - val_loss: 0.0080 - val_mean_absolute_error: 0.0616\n",
            "Epoch 202/300\n",
            "\u001b[1m31/31\u001b[0m \u001b[32m━━━━━━━━━━━━━━━━━━━━\u001b[0m\u001b[37m\u001b[0m \u001b[1m0s\u001b[0m 5ms/step - loss: 0.0051 - mean_absolute_error: 0.0462 - val_loss: 0.0077 - val_mean_absolute_error: 0.0627\n",
            "Epoch 203/300\n",
            "\u001b[1m31/31\u001b[0m \u001b[32m━━━━━━━━━━━━━━━━━━━━\u001b[0m\u001b[37m\u001b[0m \u001b[1m0s\u001b[0m 5ms/step - loss: 0.0053 - mean_absolute_error: 0.0496 - val_loss: 0.0078 - val_mean_absolute_error: 0.0621\n",
            "Epoch 204/300\n",
            "\u001b[1m31/31\u001b[0m \u001b[32m━━━━━━━━━━━━━━━━━━━━\u001b[0m\u001b[37m\u001b[0m \u001b[1m0s\u001b[0m 5ms/step - loss: 0.0050 - mean_absolute_error: 0.0485 - val_loss: 0.0077 - val_mean_absolute_error: 0.0622\n",
            "Epoch 205/300\n",
            "\u001b[1m31/31\u001b[0m \u001b[32m━━━━━━━━━━━━━━━━━━━━\u001b[0m\u001b[37m\u001b[0m \u001b[1m0s\u001b[0m 5ms/step - loss: 0.0056 - mean_absolute_error: 0.0509 - val_loss: 0.0078 - val_mean_absolute_error: 0.0618\n",
            "Epoch 206/300\n",
            "\u001b[1m31/31\u001b[0m \u001b[32m━━━━━━━━━━━━━━━━━━━━\u001b[0m\u001b[37m\u001b[0m \u001b[1m0s\u001b[0m 5ms/step - loss: 0.0059 - mean_absolute_error: 0.0515 - val_loss: 0.0078 - val_mean_absolute_error: 0.0618\n",
            "Epoch 207/300\n",
            "\u001b[1m31/31\u001b[0m \u001b[32m━━━━━━━━━━━━━━━━━━━━\u001b[0m\u001b[37m\u001b[0m \u001b[1m0s\u001b[0m 5ms/step - loss: 0.0055 - mean_absolute_error: 0.0488 - val_loss: 0.0079 - val_mean_absolute_error: 0.0618\n",
            "Epoch 208/300\n",
            "\u001b[1m31/31\u001b[0m \u001b[32m━━━━━━━━━━━━━━━━━━━━\u001b[0m\u001b[37m\u001b[0m \u001b[1m0s\u001b[0m 5ms/step - loss: 0.0063 - mean_absolute_error: 0.0512 - val_loss: 0.0078 - val_mean_absolute_error: 0.0618\n",
            "Epoch 209/300\n",
            "\u001b[1m31/31\u001b[0m \u001b[32m━━━━━━━━━━━━━━━━━━━━\u001b[0m\u001b[37m\u001b[0m \u001b[1m0s\u001b[0m 5ms/step - loss: 0.0058 - mean_absolute_error: 0.0485 - val_loss: 0.0076 - val_mean_absolute_error: 0.0628\n",
            "Epoch 210/300\n",
            "\u001b[1m31/31\u001b[0m \u001b[32m━━━━━━━━━━━━━━━━━━━━\u001b[0m\u001b[37m\u001b[0m \u001b[1m0s\u001b[0m 5ms/step - loss: 0.0049 - mean_absolute_error: 0.0493 - val_loss: 0.0077 - val_mean_absolute_error: 0.0623\n",
            "Epoch 211/300\n",
            "\u001b[1m31/31\u001b[0m \u001b[32m━━━━━━━━━━━━━━━━━━━━\u001b[0m\u001b[37m\u001b[0m \u001b[1m0s\u001b[0m 5ms/step - loss: 0.0060 - mean_absolute_error: 0.0509 - val_loss: 0.0079 - val_mean_absolute_error: 0.0616\n",
            "Epoch 212/300\n",
            "\u001b[1m31/31\u001b[0m \u001b[32m━━━━━━━━━━━━━━━━━━━━\u001b[0m\u001b[37m\u001b[0m \u001b[1m0s\u001b[0m 5ms/step - loss: 0.0059 - mean_absolute_error: 0.0505 - val_loss: 0.0078 - val_mean_absolute_error: 0.0619\n",
            "Epoch 213/300\n",
            "\u001b[1m31/31\u001b[0m \u001b[32m━━━━━━━━━━━━━━━━━━━━\u001b[0m\u001b[37m\u001b[0m \u001b[1m0s\u001b[0m 5ms/step - loss: 0.0059 - mean_absolute_error: 0.0516 - val_loss: 0.0078 - val_mean_absolute_error: 0.0619\n",
            "Epoch 214/300\n",
            "\u001b[1m31/31\u001b[0m \u001b[32m━━━━━━━━━━━━━━━━━━━━\u001b[0m\u001b[37m\u001b[0m \u001b[1m0s\u001b[0m 5ms/step - loss: 0.0061 - mean_absolute_error: 0.0506 - val_loss: 0.0080 - val_mean_absolute_error: 0.0616\n",
            "Epoch 215/300\n",
            "\u001b[1m31/31\u001b[0m \u001b[32m━━━━━━━━━━━━━━━━━━━━\u001b[0m\u001b[37m\u001b[0m \u001b[1m0s\u001b[0m 5ms/step - loss: 0.0061 - mean_absolute_error: 0.0507 - val_loss: 0.0077 - val_mean_absolute_error: 0.0619\n",
            "Epoch 216/300\n",
            "\u001b[1m31/31\u001b[0m \u001b[32m━━━━━━━━━━━━━━━━━━━━\u001b[0m\u001b[37m\u001b[0m \u001b[1m0s\u001b[0m 5ms/step - loss: 0.0080 - mean_absolute_error: 0.0522 - val_loss: 0.0079 - val_mean_absolute_error: 0.0617\n",
            "Epoch 217/300\n",
            "\u001b[1m31/31\u001b[0m \u001b[32m━━━━━━━━━━━━━━━━━━━━\u001b[0m\u001b[37m\u001b[0m \u001b[1m0s\u001b[0m 5ms/step - loss: 0.0065 - mean_absolute_error: 0.0488 - val_loss: 0.0078 - val_mean_absolute_error: 0.0620\n",
            "Epoch 218/300\n",
            "\u001b[1m31/31\u001b[0m \u001b[32m━━━━━━━━━━━━━━━━━━━━\u001b[0m\u001b[37m\u001b[0m \u001b[1m0s\u001b[0m 6ms/step - loss: 0.0063 - mean_absolute_error: 0.0537 - val_loss: 0.0078 - val_mean_absolute_error: 0.0617\n",
            "Epoch 219/300\n",
            "\u001b[1m31/31\u001b[0m \u001b[32m━━━━━━━━━━━━━━━━━━━━\u001b[0m\u001b[37m\u001b[0m \u001b[1m0s\u001b[0m 5ms/step - loss: 0.0076 - mean_absolute_error: 0.0537 - val_loss: 0.0080 - val_mean_absolute_error: 0.0615\n",
            "Epoch 220/300\n",
            "\u001b[1m31/31\u001b[0m \u001b[32m━━━━━━━━━━━━━━━━━━━━\u001b[0m\u001b[37m\u001b[0m \u001b[1m0s\u001b[0m 5ms/step - loss: 0.0058 - mean_absolute_error: 0.0488 - val_loss: 0.0078 - val_mean_absolute_error: 0.0618\n",
            "Epoch 221/300\n",
            "\u001b[1m31/31\u001b[0m \u001b[32m━━━━━━━━━━━━━━━━━━━━\u001b[0m\u001b[37m\u001b[0m \u001b[1m0s\u001b[0m 6ms/step - loss: 0.0069 - mean_absolute_error: 0.0512 - val_loss: 0.0077 - val_mean_absolute_error: 0.0621\n",
            "Epoch 222/300\n",
            "\u001b[1m31/31\u001b[0m \u001b[32m━━━━━━━━━━━━━━━━━━━━\u001b[0m\u001b[37m\u001b[0m \u001b[1m0s\u001b[0m 5ms/step - loss: 0.0069 - mean_absolute_error: 0.0499 - val_loss: 0.0077 - val_mean_absolute_error: 0.0621\n",
            "Epoch 223/300\n",
            "\u001b[1m31/31\u001b[0m \u001b[32m━━━━━━━━━━━━━━━━━━━━\u001b[0m\u001b[37m\u001b[0m \u001b[1m0s\u001b[0m 5ms/step - loss: 0.0081 - mean_absolute_error: 0.0561 - val_loss: 0.0080 - val_mean_absolute_error: 0.0614\n",
            "Epoch 224/300\n",
            "\u001b[1m31/31\u001b[0m \u001b[32m━━━━━━━━━━━━━━━━━━━━\u001b[0m\u001b[37m\u001b[0m \u001b[1m0s\u001b[0m 5ms/step - loss: 0.0062 - mean_absolute_error: 0.0495 - val_loss: 0.0078 - val_mean_absolute_error: 0.0618\n",
            "Epoch 225/300\n",
            "\u001b[1m31/31\u001b[0m \u001b[32m━━━━━━━━━━━━━━━━━━━━\u001b[0m\u001b[37m\u001b[0m \u001b[1m0s\u001b[0m 5ms/step - loss: 0.0051 - mean_absolute_error: 0.0484 - val_loss: 0.0077 - val_mean_absolute_error: 0.0623\n",
            "Epoch 226/300\n",
            "\u001b[1m31/31\u001b[0m \u001b[32m━━━━━━━━━━━━━━━━━━━━\u001b[0m\u001b[37m\u001b[0m \u001b[1m0s\u001b[0m 5ms/step - loss: 0.0060 - mean_absolute_error: 0.0526 - val_loss: 0.0078 - val_mean_absolute_error: 0.0618\n",
            "Epoch 227/300\n",
            "\u001b[1m31/31\u001b[0m \u001b[32m━━━━━━━━━━━━━━━━━━━━\u001b[0m\u001b[37m\u001b[0m \u001b[1m0s\u001b[0m 5ms/step - loss: 0.0054 - mean_absolute_error: 0.0459 - val_loss: 0.0076 - val_mean_absolute_error: 0.0631\n",
            "Epoch 228/300\n",
            "\u001b[1m31/31\u001b[0m \u001b[32m━━━━━━━━━━━━━━━━━━━━\u001b[0m\u001b[37m\u001b[0m \u001b[1m0s\u001b[0m 5ms/step - loss: 0.0060 - mean_absolute_error: 0.0516 - val_loss: 0.0077 - val_mean_absolute_error: 0.0622\n",
            "Epoch 229/300\n",
            "\u001b[1m31/31\u001b[0m \u001b[32m━━━━━━━━━━━━━━━━━━━━\u001b[0m\u001b[37m\u001b[0m \u001b[1m0s\u001b[0m 5ms/step - loss: 0.0061 - mean_absolute_error: 0.0511 - val_loss: 0.0078 - val_mean_absolute_error: 0.0617\n",
            "Epoch 230/300\n",
            "\u001b[1m31/31\u001b[0m \u001b[32m━━━━━━━━━━━━━━━━━━━━\u001b[0m\u001b[37m\u001b[0m \u001b[1m0s\u001b[0m 5ms/step - loss: 0.0049 - mean_absolute_error: 0.0468 - val_loss: 0.0077 - val_mean_absolute_error: 0.0623\n",
            "Epoch 231/300\n",
            "\u001b[1m31/31\u001b[0m \u001b[32m━━━━━━━━━━━━━━━━━━━━\u001b[0m\u001b[37m\u001b[0m \u001b[1m0s\u001b[0m 5ms/step - loss: 0.0063 - mean_absolute_error: 0.0517 - val_loss: 0.0080 - val_mean_absolute_error: 0.0619\n",
            "Epoch 232/300\n",
            "\u001b[1m31/31\u001b[0m \u001b[32m━━━━━━━━━━━━━━━━━━━━\u001b[0m\u001b[37m\u001b[0m \u001b[1m0s\u001b[0m 5ms/step - loss: 0.0048 - mean_absolute_error: 0.0461 - val_loss: 0.0077 - val_mean_absolute_error: 0.0625\n",
            "Epoch 233/300\n",
            "\u001b[1m31/31\u001b[0m \u001b[32m━━━━━━━━━━━━━━━━━━━━\u001b[0m\u001b[37m\u001b[0m \u001b[1m0s\u001b[0m 5ms/step - loss: 0.0054 - mean_absolute_error: 0.0514 - val_loss: 0.0079 - val_mean_absolute_error: 0.0618\n",
            "Epoch 234/300\n",
            "\u001b[1m31/31\u001b[0m \u001b[32m━━━━━━━━━━━━━━━━━━━━\u001b[0m\u001b[37m\u001b[0m \u001b[1m0s\u001b[0m 5ms/step - loss: 0.0061 - mean_absolute_error: 0.0500 - val_loss: 0.0078 - val_mean_absolute_error: 0.0619\n",
            "Epoch 235/300\n",
            "\u001b[1m31/31\u001b[0m \u001b[32m━━━━━━━━━━━━━━━━━━━━\u001b[0m\u001b[37m\u001b[0m \u001b[1m0s\u001b[0m 5ms/step - loss: 0.0055 - mean_absolute_error: 0.0481 - val_loss: 0.0077 - val_mean_absolute_error: 0.0624\n",
            "Epoch 236/300\n",
            "\u001b[1m31/31\u001b[0m \u001b[32m━━━━━━━━━━━━━━━━━━━━\u001b[0m\u001b[37m\u001b[0m \u001b[1m0s\u001b[0m 5ms/step - loss: 0.0061 - mean_absolute_error: 0.0501 - val_loss: 0.0079 - val_mean_absolute_error: 0.0618\n",
            "Epoch 237/300\n",
            "\u001b[1m31/31\u001b[0m \u001b[32m━━━━━━━━━━━━━━━━━━━━\u001b[0m\u001b[37m\u001b[0m \u001b[1m0s\u001b[0m 5ms/step - loss: 0.0053 - mean_absolute_error: 0.0491 - val_loss: 0.0076 - val_mean_absolute_error: 0.0626\n",
            "Epoch 238/300\n",
            "\u001b[1m31/31\u001b[0m \u001b[32m━━━━━━━━━━━━━━━━━━━━\u001b[0m\u001b[37m\u001b[0m \u001b[1m0s\u001b[0m 5ms/step - loss: 0.0084 - mean_absolute_error: 0.0529 - val_loss: 0.0078 - val_mean_absolute_error: 0.0621\n",
            "Epoch 239/300\n",
            "\u001b[1m31/31\u001b[0m \u001b[32m━━━━━━━━━━━━━━━━━━━━\u001b[0m\u001b[37m\u001b[0m \u001b[1m0s\u001b[0m 5ms/step - loss: 0.0073 - mean_absolute_error: 0.0537 - val_loss: 0.0080 - val_mean_absolute_error: 0.0621\n",
            "Epoch 240/300\n",
            "\u001b[1m31/31\u001b[0m \u001b[32m━━━━━━━━━━━━━━━━━━━━\u001b[0m\u001b[37m\u001b[0m \u001b[1m0s\u001b[0m 4ms/step - loss: 0.0063 - mean_absolute_error: 0.0507 - val_loss: 0.0079 - val_mean_absolute_error: 0.0622\n",
            "Epoch 241/300\n",
            "\u001b[1m31/31\u001b[0m \u001b[32m━━━━━━━━━━━━━━━━━━━━\u001b[0m\u001b[37m\u001b[0m \u001b[1m0s\u001b[0m 4ms/step - loss: 0.0062 - mean_absolute_error: 0.0491 - val_loss: 0.0079 - val_mean_absolute_error: 0.0623\n",
            "Epoch 242/300\n",
            "\u001b[1m31/31\u001b[0m \u001b[32m━━━━━━━━━━━━━━━━━━━━\u001b[0m\u001b[37m\u001b[0m \u001b[1m0s\u001b[0m 4ms/step - loss: 0.0065 - mean_absolute_error: 0.0469 - val_loss: 0.0077 - val_mean_absolute_error: 0.0629\n",
            "Epoch 243/300\n",
            "\u001b[1m31/31\u001b[0m \u001b[32m━━━━━━━━━━━━━━━━━━━━\u001b[0m\u001b[37m\u001b[0m \u001b[1m0s\u001b[0m 4ms/step - loss: 0.0060 - mean_absolute_error: 0.0526 - val_loss: 0.0081 - val_mean_absolute_error: 0.0625\n",
            "Epoch 244/300\n",
            "\u001b[1m31/31\u001b[0m \u001b[32m━━━━━━━━━━━━━━━━━━━━\u001b[0m\u001b[37m\u001b[0m \u001b[1m0s\u001b[0m 4ms/step - loss: 0.0062 - mean_absolute_error: 0.0515 - val_loss: 0.0081 - val_mean_absolute_error: 0.0623\n",
            "Epoch 245/300\n",
            "\u001b[1m31/31\u001b[0m \u001b[32m━━━━━━━━━━━━━━━━━━━━\u001b[0m\u001b[37m\u001b[0m \u001b[1m0s\u001b[0m 4ms/step - loss: 0.0045 - mean_absolute_error: 0.0457 - val_loss: 0.0078 - val_mean_absolute_error: 0.0643\n",
            "Epoch 246/300\n",
            "\u001b[1m31/31\u001b[0m \u001b[32m━━━━━━━━━━━━━━━━━━━━\u001b[0m\u001b[37m\u001b[0m \u001b[1m0s\u001b[0m 4ms/step - loss: 0.0055 - mean_absolute_error: 0.0515 - val_loss: 0.0078 - val_mean_absolute_error: 0.0627\n",
            "Epoch 247/300\n",
            "\u001b[1m31/31\u001b[0m \u001b[32m━━━━━━━━━━━━━━━━━━━━\u001b[0m\u001b[37m\u001b[0m \u001b[1m0s\u001b[0m 5ms/step - loss: 0.0044 - mean_absolute_error: 0.0464 - val_loss: 0.0079 - val_mean_absolute_error: 0.0638\n",
            "Epoch 248/300\n",
            "\u001b[1m31/31\u001b[0m \u001b[32m━━━━━━━━━━━━━━━━━━━━\u001b[0m\u001b[37m\u001b[0m \u001b[1m0s\u001b[0m 4ms/step - loss: 0.0053 - mean_absolute_error: 0.0508 - val_loss: 0.0080 - val_mean_absolute_error: 0.0628\n",
            "Epoch 249/300\n",
            "\u001b[1m31/31\u001b[0m \u001b[32m━━━━━━━━━━━━━━━━━━━━\u001b[0m\u001b[37m\u001b[0m \u001b[1m0s\u001b[0m 4ms/step - loss: 0.0046 - mean_absolute_error: 0.0486 - val_loss: 0.0079 - val_mean_absolute_error: 0.0624\n",
            "Epoch 250/300\n",
            "\u001b[1m31/31\u001b[0m \u001b[32m━━━━━━━━━━━━━━━━━━━━\u001b[0m\u001b[37m\u001b[0m \u001b[1m0s\u001b[0m 4ms/step - loss: 0.0048 - mean_absolute_error: 0.0468 - val_loss: 0.0077 - val_mean_absolute_error: 0.0633\n",
            "Epoch 251/300\n",
            "\u001b[1m31/31\u001b[0m \u001b[32m━━━━━━━━━━━━━━━━━━━━\u001b[0m\u001b[37m\u001b[0m \u001b[1m0s\u001b[0m 4ms/step - loss: 0.0058 - mean_absolute_error: 0.0501 - val_loss: 0.0079 - val_mean_absolute_error: 0.0632\n",
            "Epoch 252/300\n",
            "\u001b[1m31/31\u001b[0m \u001b[32m━━━━━━━━━━━━━━━━━━━━\u001b[0m\u001b[37m\u001b[0m \u001b[1m0s\u001b[0m 4ms/step - loss: 0.0063 - mean_absolute_error: 0.0522 - val_loss: 0.0082 - val_mean_absolute_error: 0.0628\n",
            "Epoch 253/300\n",
            "\u001b[1m31/31\u001b[0m \u001b[32m━━━━━━━━━━━━━━━━━━━━\u001b[0m\u001b[37m\u001b[0m \u001b[1m0s\u001b[0m 5ms/step - loss: 0.0056 - mean_absolute_error: 0.0483 - val_loss: 0.0079 - val_mean_absolute_error: 0.0629\n",
            "Epoch 254/300\n",
            "\u001b[1m31/31\u001b[0m \u001b[32m━━━━━━━━━━━━━━━━━━━━\u001b[0m\u001b[37m\u001b[0m \u001b[1m0s\u001b[0m 4ms/step - loss: 0.0053 - mean_absolute_error: 0.0462 - val_loss: 0.0078 - val_mean_absolute_error: 0.0633\n",
            "Epoch 255/300\n",
            "\u001b[1m31/31\u001b[0m \u001b[32m━━━━━━━━━━━━━━━━━━━━\u001b[0m\u001b[37m\u001b[0m \u001b[1m0s\u001b[0m 4ms/step - loss: 0.0062 - mean_absolute_error: 0.0530 - val_loss: 0.0080 - val_mean_absolute_error: 0.0629\n",
            "Epoch 256/300\n",
            "\u001b[1m31/31\u001b[0m \u001b[32m━━━━━━━━━━━━━━━━━━━━\u001b[0m\u001b[37m\u001b[0m \u001b[1m0s\u001b[0m 4ms/step - loss: 0.0061 - mean_absolute_error: 0.0525 - val_loss: 0.0080 - val_mean_absolute_error: 0.0623\n",
            "Epoch 257/300\n",
            "\u001b[1m31/31\u001b[0m \u001b[32m━━━━━━━━━━━━━━━━━━━━\u001b[0m\u001b[37m\u001b[0m \u001b[1m0s\u001b[0m 4ms/step - loss: 0.0052 - mean_absolute_error: 0.0481 - val_loss: 0.0079 - val_mean_absolute_error: 0.0630\n",
            "Epoch 258/300\n",
            "\u001b[1m31/31\u001b[0m \u001b[32m━━━━━━━━━━━━━━━━━━━━\u001b[0m\u001b[37m\u001b[0m \u001b[1m0s\u001b[0m 6ms/step - loss: 0.0051 - mean_absolute_error: 0.0476 - val_loss: 0.0077 - val_mean_absolute_error: 0.0633\n",
            "Epoch 259/300\n",
            "\u001b[1m31/31\u001b[0m \u001b[32m━━━━━━━━━━━━━━━━━━━━\u001b[0m\u001b[37m\u001b[0m \u001b[1m0s\u001b[0m 4ms/step - loss: 0.0063 - mean_absolute_error: 0.0496 - val_loss: 0.0079 - val_mean_absolute_error: 0.0632\n",
            "Epoch 260/300\n",
            "\u001b[1m31/31\u001b[0m \u001b[32m━━━━━━━━━━━━━━━━━━━━\u001b[0m\u001b[37m\u001b[0m \u001b[1m0s\u001b[0m 4ms/step - loss: 0.0066 - mean_absolute_error: 0.0519 - val_loss: 0.0078 - val_mean_absolute_error: 0.0629\n",
            "Epoch 261/300\n",
            "\u001b[1m31/31\u001b[0m \u001b[32m━━━━━━━━━━━━━━━━━━━━\u001b[0m\u001b[37m\u001b[0m \u001b[1m0s\u001b[0m 4ms/step - loss: 0.0049 - mean_absolute_error: 0.0489 - val_loss: 0.0080 - val_mean_absolute_error: 0.0634\n",
            "Epoch 262/300\n",
            "\u001b[1m31/31\u001b[0m \u001b[32m━━━━━━━━━━━━━━━━━━━━\u001b[0m\u001b[37m\u001b[0m \u001b[1m0s\u001b[0m 4ms/step - loss: 0.0052 - mean_absolute_error: 0.0494 - val_loss: 0.0079 - val_mean_absolute_error: 0.0630\n",
            "Epoch 263/300\n",
            "\u001b[1m31/31\u001b[0m \u001b[32m━━━━━━━━━━━━━━━━━━━━\u001b[0m\u001b[37m\u001b[0m \u001b[1m0s\u001b[0m 4ms/step - loss: 0.0047 - mean_absolute_error: 0.0475 - val_loss: 0.0078 - val_mean_absolute_error: 0.0640\n",
            "Epoch 264/300\n",
            "\u001b[1m31/31\u001b[0m \u001b[32m━━━━━━━━━━━━━━━━━━━━\u001b[0m\u001b[37m\u001b[0m \u001b[1m0s\u001b[0m 4ms/step - loss: 0.0054 - mean_absolute_error: 0.0502 - val_loss: 0.0079 - val_mean_absolute_error: 0.0628\n",
            "Epoch 265/300\n",
            "\u001b[1m31/31\u001b[0m \u001b[32m━━━━━━━━━━━━━━━━━━━━\u001b[0m\u001b[37m\u001b[0m \u001b[1m0s\u001b[0m 5ms/step - loss: 0.0056 - mean_absolute_error: 0.0497 - val_loss: 0.0080 - val_mean_absolute_error: 0.0632\n",
            "Epoch 266/300\n",
            "\u001b[1m31/31\u001b[0m \u001b[32m━━━━━━━━━━━━━━━━━━━━\u001b[0m\u001b[37m\u001b[0m \u001b[1m0s\u001b[0m 4ms/step - loss: 0.0055 - mean_absolute_error: 0.0490 - val_loss: 0.0079 - val_mean_absolute_error: 0.0632\n",
            "Epoch 267/300\n",
            "\u001b[1m31/31\u001b[0m \u001b[32m━━━━━━━━━━━━━━━━━━━━\u001b[0m\u001b[37m\u001b[0m \u001b[1m0s\u001b[0m 5ms/step - loss: 0.0062 - mean_absolute_error: 0.0493 - val_loss: 0.0079 - val_mean_absolute_error: 0.0633\n",
            "Epoch 268/300\n",
            "\u001b[1m31/31\u001b[0m \u001b[32m━━━━━━━━━━━━━━━━━━━━\u001b[0m\u001b[37m\u001b[0m \u001b[1m0s\u001b[0m 6ms/step - loss: 0.0050 - mean_absolute_error: 0.0483 - val_loss: 0.0079 - val_mean_absolute_error: 0.0635\n",
            "Epoch 269/300\n",
            "\u001b[1m31/31\u001b[0m \u001b[32m━━━━━━━━━━━━━━━━━━━━\u001b[0m\u001b[37m\u001b[0m \u001b[1m0s\u001b[0m 4ms/step - loss: 0.0055 - mean_absolute_error: 0.0508 - val_loss: 0.0081 - val_mean_absolute_error: 0.0627\n",
            "Epoch 270/300\n",
            "\u001b[1m31/31\u001b[0m \u001b[32m━━━━━━━━━━━━━━━━━━━━\u001b[0m\u001b[37m\u001b[0m \u001b[1m0s\u001b[0m 4ms/step - loss: 0.0052 - mean_absolute_error: 0.0486 - val_loss: 0.0079 - val_mean_absolute_error: 0.0632\n",
            "Epoch 271/300\n",
            "\u001b[1m31/31\u001b[0m \u001b[32m━━━━━━━━━━━━━━━━━━━━\u001b[0m\u001b[37m\u001b[0m \u001b[1m0s\u001b[0m 5ms/step - loss: 0.0048 - mean_absolute_error: 0.0471 - val_loss: 0.0078 - val_mean_absolute_error: 0.0632\n",
            "Epoch 272/300\n",
            "\u001b[1m31/31\u001b[0m \u001b[32m━━━━━━━━━━━━━━━━━━━━\u001b[0m\u001b[37m\u001b[0m \u001b[1m0s\u001b[0m 4ms/step - loss: 0.0062 - mean_absolute_error: 0.0497 - val_loss: 0.0079 - val_mean_absolute_error: 0.0631\n",
            "Epoch 273/300\n",
            "\u001b[1m31/31\u001b[0m \u001b[32m━━━━━━━━━━━━━━━━━━━━\u001b[0m\u001b[37m\u001b[0m \u001b[1m0s\u001b[0m 4ms/step - loss: 0.0072 - mean_absolute_error: 0.0520 - val_loss: 0.0080 - val_mean_absolute_error: 0.0636\n",
            "Epoch 274/300\n",
            "\u001b[1m31/31\u001b[0m \u001b[32m━━━━━━━━━━━━━━━━━━━━\u001b[0m\u001b[37m\u001b[0m \u001b[1m0s\u001b[0m 4ms/step - loss: 0.0048 - mean_absolute_error: 0.0477 - val_loss: 0.0080 - val_mean_absolute_error: 0.0629\n",
            "Epoch 275/300\n",
            "\u001b[1m31/31\u001b[0m \u001b[32m━━━━━━━━━━━━━━━━━━━━\u001b[0m\u001b[37m\u001b[0m \u001b[1m0s\u001b[0m 4ms/step - loss: 0.0052 - mean_absolute_error: 0.0469 - val_loss: 0.0079 - val_mean_absolute_error: 0.0634\n",
            "Epoch 276/300\n",
            "\u001b[1m31/31\u001b[0m \u001b[32m━━━━━━━━━━━━━━━━━━━━\u001b[0m\u001b[37m\u001b[0m \u001b[1m0s\u001b[0m 5ms/step - loss: 0.0059 - mean_absolute_error: 0.0504 - val_loss: 0.0078 - val_mean_absolute_error: 0.0636\n",
            "Epoch 277/300\n",
            "\u001b[1m31/31\u001b[0m \u001b[32m━━━━━━━━━━━━━━━━━━━━\u001b[0m\u001b[37m\u001b[0m \u001b[1m0s\u001b[0m 4ms/step - loss: 0.0060 - mean_absolute_error: 0.0509 - val_loss: 0.0082 - val_mean_absolute_error: 0.0638\n",
            "Epoch 278/300\n",
            "\u001b[1m31/31\u001b[0m \u001b[32m━━━━━━━━━━━━━━━━━━━━\u001b[0m\u001b[37m\u001b[0m \u001b[1m0s\u001b[0m 6ms/step - loss: 0.0086 - mean_absolute_error: 0.0561 - val_loss: 0.0082 - val_mean_absolute_error: 0.0630\n",
            "Epoch 279/300\n",
            "\u001b[1m31/31\u001b[0m \u001b[32m━━━━━━━━━━━━━━━━━━━━\u001b[0m\u001b[37m\u001b[0m \u001b[1m0s\u001b[0m 4ms/step - loss: 0.0057 - mean_absolute_error: 0.0501 - val_loss: 0.0079 - val_mean_absolute_error: 0.0637\n",
            "Epoch 280/300\n",
            "\u001b[1m31/31\u001b[0m \u001b[32m━━━━━━━━━━━━━━━━━━━━\u001b[0m\u001b[37m\u001b[0m \u001b[1m0s\u001b[0m 4ms/step - loss: 0.0060 - mean_absolute_error: 0.0494 - val_loss: 0.0079 - val_mean_absolute_error: 0.0634\n",
            "Epoch 281/300\n",
            "\u001b[1m31/31\u001b[0m \u001b[32m━━━━━━━━━━━━━━━━━━━━\u001b[0m\u001b[37m\u001b[0m \u001b[1m0s\u001b[0m 5ms/step - loss: 0.0085 - mean_absolute_error: 0.0511 - val_loss: 0.0080 - val_mean_absolute_error: 0.0630\n",
            "Epoch 282/300\n",
            "\u001b[1m31/31\u001b[0m \u001b[32m━━━━━━━━━━━━━━━━━━━━\u001b[0m\u001b[37m\u001b[0m \u001b[1m0s\u001b[0m 4ms/step - loss: 0.0049 - mean_absolute_error: 0.0472 - val_loss: 0.0079 - val_mean_absolute_error: 0.0633\n",
            "Epoch 283/300\n",
            "\u001b[1m31/31\u001b[0m \u001b[32m━━━━━━━━━━━━━━━━━━━━\u001b[0m\u001b[37m\u001b[0m \u001b[1m0s\u001b[0m 5ms/step - loss: 0.0048 - mean_absolute_error: 0.0484 - val_loss: 0.0079 - val_mean_absolute_error: 0.0643\n",
            "Epoch 284/300\n",
            "\u001b[1m31/31\u001b[0m \u001b[32m━━━━━━━━━━━━━━━━━━━━\u001b[0m\u001b[37m\u001b[0m \u001b[1m0s\u001b[0m 4ms/step - loss: 0.0060 - mean_absolute_error: 0.0513 - val_loss: 0.0081 - val_mean_absolute_error: 0.0632\n",
            "Epoch 285/300\n",
            "\u001b[1m31/31\u001b[0m \u001b[32m━━━━━━━━━━━━━━━━━━━━\u001b[0m\u001b[37m\u001b[0m \u001b[1m0s\u001b[0m 4ms/step - loss: 0.0060 - mean_absolute_error: 0.0505 - val_loss: 0.0079 - val_mean_absolute_error: 0.0626\n",
            "Epoch 286/300\n",
            "\u001b[1m31/31\u001b[0m \u001b[32m━━━━━━━━━━━━━━━━━━━━\u001b[0m\u001b[37m\u001b[0m \u001b[1m0s\u001b[0m 4ms/step - loss: 0.0055 - mean_absolute_error: 0.0502 - val_loss: 0.0079 - val_mean_absolute_error: 0.0635\n",
            "Epoch 287/300\n",
            "\u001b[1m31/31\u001b[0m \u001b[32m━━━━━━━━━━━━━━━━━━━━\u001b[0m\u001b[37m\u001b[0m \u001b[1m0s\u001b[0m 6ms/step - loss: 0.0053 - mean_absolute_error: 0.0474 - val_loss: 0.0079 - val_mean_absolute_error: 0.0636\n",
            "Epoch 288/300\n",
            "\u001b[1m31/31\u001b[0m \u001b[32m━━━━━━━━━━━━━━━━━━━━\u001b[0m\u001b[37m\u001b[0m \u001b[1m0s\u001b[0m 5ms/step - loss: 0.0069 - mean_absolute_error: 0.0536 - val_loss: 0.0081 - val_mean_absolute_error: 0.0632\n",
            "Epoch 289/300\n",
            "\u001b[1m31/31\u001b[0m \u001b[32m━━━━━━━━━━━━━━━━━━━━\u001b[0m\u001b[37m\u001b[0m \u001b[1m0s\u001b[0m 4ms/step - loss: 0.0047 - mean_absolute_error: 0.0468 - val_loss: 0.0079 - val_mean_absolute_error: 0.0637\n",
            "Epoch 290/300\n",
            "\u001b[1m31/31\u001b[0m \u001b[32m━━━━━━━━━━━━━━━━━━━━\u001b[0m\u001b[37m\u001b[0m \u001b[1m0s\u001b[0m 5ms/step - loss: 0.0052 - mean_absolute_error: 0.0494 - val_loss: 0.0079 - val_mean_absolute_error: 0.0633\n",
            "Epoch 291/300\n",
            "\u001b[1m31/31\u001b[0m \u001b[32m━━━━━━━━━━━━━━━━━━━━\u001b[0m\u001b[37m\u001b[0m \u001b[1m0s\u001b[0m 4ms/step - loss: 0.0048 - mean_absolute_error: 0.0476 - val_loss: 0.0079 - val_mean_absolute_error: 0.0635\n",
            "Epoch 292/300\n",
            "\u001b[1m31/31\u001b[0m \u001b[32m━━━━━━━━━━━━━━━━━━━━\u001b[0m\u001b[37m\u001b[0m \u001b[1m0s\u001b[0m 4ms/step - loss: 0.0058 - mean_absolute_error: 0.0517 - val_loss: 0.0080 - val_mean_absolute_error: 0.0635\n",
            "Epoch 293/300\n",
            "\u001b[1m31/31\u001b[0m \u001b[32m━━━━━━━━━━━━━━━━━━━━\u001b[0m\u001b[37m\u001b[0m \u001b[1m0s\u001b[0m 4ms/step - loss: 0.0071 - mean_absolute_error: 0.0524 - val_loss: 0.0078 - val_mean_absolute_error: 0.0632\n",
            "Epoch 294/300\n",
            "\u001b[1m31/31\u001b[0m \u001b[32m━━━━━━━━━━━━━━━━━━━━\u001b[0m\u001b[37m\u001b[0m \u001b[1m0s\u001b[0m 4ms/step - loss: 0.0067 - mean_absolute_error: 0.0492 - val_loss: 0.0078 - val_mean_absolute_error: 0.0632\n",
            "Epoch 295/300\n",
            "\u001b[1m31/31\u001b[0m \u001b[32m━━━━━━━━━━━━━━━━━━━━\u001b[0m\u001b[37m\u001b[0m \u001b[1m0s\u001b[0m 4ms/step - loss: 0.0044 - mean_absolute_error: 0.0467 - val_loss: 0.0079 - val_mean_absolute_error: 0.0641\n",
            "Epoch 296/300\n",
            "\u001b[1m31/31\u001b[0m \u001b[32m━━━━━━━━━━━━━━━━━━━━\u001b[0m\u001b[37m\u001b[0m \u001b[1m0s\u001b[0m 6ms/step - loss: 0.0046 - mean_absolute_error: 0.0486 - val_loss: 0.0079 - val_mean_absolute_error: 0.0643\n",
            "Epoch 297/300\n",
            "\u001b[1m31/31\u001b[0m \u001b[32m━━━━━━━━━━━━━━━━━━━━\u001b[0m\u001b[37m\u001b[0m \u001b[1m0s\u001b[0m 5ms/step - loss: 0.0053 - mean_absolute_error: 0.0501 - val_loss: 0.0080 - val_mean_absolute_error: 0.0636\n",
            "Epoch 298/300\n",
            "\u001b[1m31/31\u001b[0m \u001b[32m━━━━━━━━━━━━━━━━━━━━\u001b[0m\u001b[37m\u001b[0m \u001b[1m0s\u001b[0m 4ms/step - loss: 0.0059 - mean_absolute_error: 0.0495 - val_loss: 0.0080 - val_mean_absolute_error: 0.0640\n",
            "Epoch 299/300\n",
            "\u001b[1m31/31\u001b[0m \u001b[32m━━━━━━━━━━━━━━━━━━━━\u001b[0m\u001b[37m\u001b[0m \u001b[1m0s\u001b[0m 4ms/step - loss: 0.0053 - mean_absolute_error: 0.0487 - val_loss: 0.0080 - val_mean_absolute_error: 0.0634\n",
            "Epoch 300/300\n",
            "\u001b[1m31/31\u001b[0m \u001b[32m━━━━━━━━━━━━━━━━━━━━\u001b[0m\u001b[37m\u001b[0m \u001b[1m0s\u001b[0m 4ms/step - loss: 0.0055 - mean_absolute_error: 0.0496 - val_loss: 0.0080 - val_mean_absolute_error: 0.0635\n"
          ]
        },
        {
          "data": {
            "text/plain": [
              "<keras.src.callbacks.history.History at 0x27109dbbcb0>"
            ]
          },
          "execution_count": 485,
          "metadata": {},
          "output_type": "execute_result"
        }
      ],
      "source": [
        "EPOCHS = 300\n",
        "BATCH_SIZE = 32\n",
        "\n",
        "\n",
        "# Train the model\n",
        "model.fit(\n",
        "    X_train,\n",
        "    y_train,\n",
        "    epochs=EPOCHS,\n",
        "    batch_size=BATCH_SIZE,\n",
        "    validation_data=(X_test, y_test),\n",
        ")"
      ]
    },
    {
      "cell_type": "code",
      "execution_count": 486,
      "metadata": {
        "colab": {
          "base_uri": "https://localhost:8080/"
        },
        "id": "FIETBqQ8XTx1",
        "outputId": "2458a57a-8b81-43fc-fad1-cc42b2a5e9f1"
      },
      "outputs": [
        {
          "name": "stdout",
          "output_type": "stream",
          "text": [
            "\u001b[1m8/8\u001b[0m \u001b[32m━━━━━━━━━━━━━━━━━━━━\u001b[0m\u001b[37m\u001b[0m \u001b[1m0s\u001b[0m 30ms/step\n"
          ]
        }
      ],
      "source": [
        "# Predict and convert the data back - because i reshaped between 0 and 1, so need to convert back\n",
        "y_pred = model.predict(X_test)\n",
        "y_pred = scaler.inverse_transform(y_pred)"
      ]
    },
    {
      "cell_type": "code",
      "execution_count": 487,
      "metadata": {
        "id": "1QgCp9lhXZBg"
      },
      "outputs": [],
      "source": [
        "train_data1 = Sales_by_day_df[:train_size]\n",
        "test_data1 = Sales_by_day_df[train_size : train_size + test_size]\n",
        "\n",
        "y_test1 = np.array(test_data1)"
      ]
    },
    {
      "cell_type": "code",
      "execution_count": 488,
      "metadata": {
        "id": "AADANmZjXojk"
      },
      "outputs": [],
      "source": [
        "def forecast(data, window_slide, forecast_days):\n",
        "    # Get the last sequence_length days\n",
        "    x_forecast = data[-window_slide:]\n",
        "    y_forecast = []\n",
        "\n",
        "    for i in range(forecast_days + 1):\n",
        "        # Reshape x_forecast to have the shape (1, window_side, num_features)\n",
        "        x_forecast_reshaped = x_forecast.reshape(1, window_slide, x_forecast.shape[1])\n",
        "        # Predict the next day\n",
        "        y = model.predict(x_forecast_reshaped)\n",
        "        y_forecast.append(y[0][0])\n",
        "\n",
        "        # Add the new prediction to the data\n",
        "        x_forecast = np.insert(x_forecast, -1, y, axis=0)[1:]\n",
        "\n",
        "    return y_forecast"
      ]
    },
    {
      "cell_type": "code",
      "execution_count": 489,
      "metadata": {
        "colab": {
          "base_uri": "https://localhost:8080/"
        },
        "id": "zKU2jt7VXvRu",
        "outputId": "67cd1a8f-82ae-44dd-fc98-6a1605a5b4d3"
      },
      "outputs": [
        {
          "name": "stdout",
          "output_type": "stream",
          "text": [
            "\u001b[1m1/1\u001b[0m \u001b[32m━━━━━━━━━━━━━━━━━━━━\u001b[0m\u001b[37m\u001b[0m \u001b[1m0s\u001b[0m 32ms/step\n",
            "\u001b[1m1/1\u001b[0m \u001b[32m━━━━━━━━━━━━━━━━━━━━\u001b[0m\u001b[37m\u001b[0m \u001b[1m0s\u001b[0m 18ms/step\n",
            "\u001b[1m1/1\u001b[0m \u001b[32m━━━━━━━━━━━━━━━━━━━━\u001b[0m\u001b[37m\u001b[0m \u001b[1m0s\u001b[0m 17ms/step\n",
            "\u001b[1m1/1\u001b[0m \u001b[32m━━━━━━━━━━━━━━━━━━━━\u001b[0m\u001b[37m\u001b[0m \u001b[1m0s\u001b[0m 17ms/step\n",
            "\u001b[1m1/1\u001b[0m \u001b[32m━━━━━━━━━━━━━━━━━━━━\u001b[0m\u001b[37m\u001b[0m \u001b[1m0s\u001b[0m 15ms/step\n",
            "\u001b[1m1/1\u001b[0m \u001b[32m━━━━━━━━━━━━━━━━━━━━\u001b[0m\u001b[37m\u001b[0m \u001b[1m0s\u001b[0m 18ms/step\n",
            "\u001b[1m1/1\u001b[0m \u001b[32m━━━━━━━━━━━━━━━━━━━━\u001b[0m\u001b[37m\u001b[0m \u001b[1m0s\u001b[0m 16ms/step\n",
            "\u001b[1m1/1\u001b[0m \u001b[32m━━━━━━━━━━━━━━━━━━━━\u001b[0m\u001b[37m\u001b[0m \u001b[1m0s\u001b[0m 17ms/step\n",
            "\u001b[1m1/1\u001b[0m \u001b[32m━━━━━━━━━━━━━━━━━━━━\u001b[0m\u001b[37m\u001b[0m \u001b[1m0s\u001b[0m 16ms/step\n",
            "\u001b[1m1/1\u001b[0m \u001b[32m━━━━━━━━━━━━━━━━━━━━\u001b[0m\u001b[37m\u001b[0m \u001b[1m0s\u001b[0m 16ms/step\n",
            "\u001b[1m1/1\u001b[0m \u001b[32m━━━━━━━━━━━━━━━━━━━━\u001b[0m\u001b[37m\u001b[0m \u001b[1m0s\u001b[0m 16ms/step\n",
            "\u001b[1m1/1\u001b[0m \u001b[32m━━━━━━━━━━━━━━━━━━━━\u001b[0m\u001b[37m\u001b[0m \u001b[1m0s\u001b[0m 17ms/step\n",
            "\u001b[1m1/1\u001b[0m \u001b[32m━━━━━━━━━━━━━━━━━━━━\u001b[0m\u001b[37m\u001b[0m \u001b[1m0s\u001b[0m 20ms/step\n",
            "\u001b[1m1/1\u001b[0m \u001b[32m━━━━━━━━━━━━━━━━━━━━\u001b[0m\u001b[37m\u001b[0m \u001b[1m0s\u001b[0m 19ms/step\n",
            "\u001b[1m1/1\u001b[0m \u001b[32m━━━━━━━━━━━━━━━━━━━━\u001b[0m\u001b[37m\u001b[0m \u001b[1m0s\u001b[0m 23ms/step\n",
            "\u001b[1m1/1\u001b[0m \u001b[32m━━━━━━━━━━━━━━━━━━━━\u001b[0m\u001b[37m\u001b[0m \u001b[1m0s\u001b[0m 16ms/step\n",
            "\u001b[1m1/1\u001b[0m \u001b[32m━━━━━━━━━━━━━━━━━━━━\u001b[0m\u001b[37m\u001b[0m \u001b[1m0s\u001b[0m 17ms/step\n",
            "\u001b[1m1/1\u001b[0m \u001b[32m━━━━━━━━━━━━━━━━━━━━\u001b[0m\u001b[37m\u001b[0m \u001b[1m0s\u001b[0m 15ms/step\n",
            "\u001b[1m1/1\u001b[0m \u001b[32m━━━━━━━━━━━━━━━━━━━━\u001b[0m\u001b[37m\u001b[0m \u001b[1m0s\u001b[0m 18ms/step\n",
            "\u001b[1m1/1\u001b[0m \u001b[32m━━━━━━━━━━━━━━━━━━━━\u001b[0m\u001b[37m\u001b[0m \u001b[1m0s\u001b[0m 17ms/step\n",
            "\u001b[1m1/1\u001b[0m \u001b[32m━━━━━━━━━━━━━━━━━━━━\u001b[0m\u001b[37m\u001b[0m \u001b[1m0s\u001b[0m 18ms/step\n",
            "\u001b[1m1/1\u001b[0m \u001b[32m━━━━━━━━━━━━━━━━━━━━\u001b[0m\u001b[37m\u001b[0m \u001b[1m0s\u001b[0m 16ms/step\n",
            "\u001b[1m1/1\u001b[0m \u001b[32m━━━━━━━━━━━━━━━━━━━━\u001b[0m\u001b[37m\u001b[0m \u001b[1m0s\u001b[0m 17ms/step\n",
            "\u001b[1m1/1\u001b[0m \u001b[32m━━━━━━━━━━━━━━━━━━━━\u001b[0m\u001b[37m\u001b[0m \u001b[1m0s\u001b[0m 17ms/step\n",
            "\u001b[1m1/1\u001b[0m \u001b[32m━━━━━━━━━━━━━━━━━━━━\u001b[0m\u001b[37m\u001b[0m \u001b[1m0s\u001b[0m 16ms/step\n",
            "\u001b[1m1/1\u001b[0m \u001b[32m━━━━━━━━━━━━━━━━━━━━\u001b[0m\u001b[37m\u001b[0m \u001b[1m0s\u001b[0m 18ms/step\n",
            "\u001b[1m1/1\u001b[0m \u001b[32m━━━━━━━━━━━━━━━━━━━━\u001b[0m\u001b[37m\u001b[0m \u001b[1m0s\u001b[0m 19ms/step\n",
            "\u001b[1m1/1\u001b[0m \u001b[32m━━━━━━━━━━━━━━━━━━━━\u001b[0m\u001b[37m\u001b[0m \u001b[1m0s\u001b[0m 15ms/step\n",
            "\u001b[1m1/1\u001b[0m \u001b[32m━━━━━━━━━━━━━━━━━━━━\u001b[0m\u001b[37m\u001b[0m \u001b[1m0s\u001b[0m 17ms/step\n",
            "\u001b[1m1/1\u001b[0m \u001b[32m━━━━━━━━━━━━━━━━━━━━\u001b[0m\u001b[37m\u001b[0m \u001b[1m0s\u001b[0m 17ms/step\n",
            "\u001b[1m1/1\u001b[0m \u001b[32m━━━━━━━━━━━━━━━━━━━━\u001b[0m\u001b[37m\u001b[0m \u001b[1m0s\u001b[0m 16ms/step\n"
          ]
        }
      ],
      "source": [
        "y_pred_30_days = forecast(test_data, WINDOW_SLIDE, 30)\n",
        "# Assuming y_pred_30_days is a 1D array\n",
        "y_pred_30_days = np.array(y_pred_30_days).reshape(-1, 1)\n",
        "\n",
        "# Inverse transform y_pred_30_days\n",
        "y_pred_30_days = scaler.inverse_transform(y_pred_30_days)"
      ]
    },
    {
      "cell_type": "code",
      "execution_count": 490,
      "metadata": {
        "id": "7ijDBxibYASh"
      },
      "outputs": [],
      "source": [
        "def draw_plot(y_days_predict, days):\n",
        "    plt.figure(figsize=(10, 6))\n",
        "    plt.ylabel(\"Sales\")\n",
        "\n",
        "    # Raw data\n",
        "    plt.plot(train_data1.index, train_data1, label=\"Train\")\n",
        "    plt.plot(test_data1.index, test_data1, label=\"Test\")\n",
        "\n",
        "    # Predict test and validate\n",
        "    plt.plot(\n",
        "        test_data1.index[\n",
        "            WINDOW_SLIDE : len(y_pred) + WINDOW_SLIDE\n",
        "        ],  # because using the sliding window (WINDOW_SIDE) -> the index of 2 dataset is difference\n",
        "        y_pred,\n",
        "        label=\"Predicted Test\",\n",
        "        linestyle=\"--\",\n",
        "    )\n",
        "\n",
        "    # Predict the next 30/60/90 days\n",
        "    plt.plot(\n",
        "        test_data1.index[-1] + np.arange(1, len(y_days_predict) + 1),\n",
        "        y_days_predict,\n",
        "        label=f\"Forecast Next {days} Days\",\n",
        "        linestyle=\"--\",\n",
        "    )\n",
        "\n",
        "    plt.legend()\n",
        "    plt.show()"
      ]
    },
    {
      "cell_type": "code",
      "execution_count": 491,
      "metadata": {
        "colab": {
          "base_uri": "https://localhost:8080/",
          "height": 522
        },
        "id": "VWzWkfxNZZHV",
        "outputId": "b4dc9fa6-2261-4317-d267-d1c544e6ae6f"
      },
      "outputs": [
        {
          "data": {
            "image/png": "[encoded data removed]",
            "text/plain": [
              "<Figure size 1000x600 with 1 Axes>"
            ]
          },
          "metadata": {},
          "output_type": "display_data"
        }
      ],
      "source": [
        "draw_plot(y_pred_30_days, 30)"
      ]
    },
    {
      "cell_type": "code",
      "execution_count": 492,
      "metadata": {},
      "outputs": [],
      "source": [
        "# Evaluation\n",
        "from sklearn.metrics import (\n",
        "    mean_absolute_percentage_error as mape,\n",
        "    mean_squared_error as mse,\n",
        "    mean_absolute_error as mae,\n",
        ")\n",
        "def evalute_model(y, y_pred):\n",
        "    # Because i use the sliding window with the time_step value, so the length of 'y' and 'y predict' will difference\n",
        "    min_len = min(len(y), len(y_pred))\n",
        "    y = y[-min_len:]\n",
        "    y_pred = y_pred[-min_len:]\n",
        "    \n",
        "    LSTM_MSE = mse(y, y_pred)\n",
        "    LSTM_MAE = mae(y, y_pred)\n",
        "    LSTM_MAPE = mape(y, y_pred) * 100\n",
        "\n",
        "    error_metrics = {\n",
        "    'Metric': ['MSE', 'MAE', 'MAPE'],\n",
        "    'Value': [LSTM_MSE, LSTM_MAE, LSTM_MAPE]\n",
        "    }\n",
        "    df_errors = pd.DataFrame(error_metrics)\n",
        "    return df_errors"
      ]
    },
    {
      "cell_type": "code",
      "execution_count": 493,
      "metadata": {},
      "outputs": [
        {
          "data": {
            "text/html": [
              "<div>\n",
              "<style scoped>\n",
              "    .dataframe tbody tr th:only-of-type {\n",
              "        vertical-align: middle;\n",
              "    }\n",
              "\n",
              "    .dataframe tbody tr th {\n",
              "        vertical-align: top;\n",
              "    }\n",
              "\n",
              "    .dataframe thead th {\n",
              "        text-align: right;\n",
              "    }\n",
              "</style>\n",
              "<table border=\"1\" class=\"dataframe\">\n",
              "  <thead>\n",
              "    <tr style=\"text-align: right;\">\n",
              "      <th></th>\n",
              "      <th>Metric</th>\n",
              "      <th>Value</th>\n",
              "    </tr>\n",
              "  </thead>\n",
              "  <tbody>\n",
              "    <tr>\n",
              "      <th>0</th>\n",
              "      <td>MSE</td>\n",
              "      <td>6.494208e+06</td>\n",
              "    </tr>\n",
              "    <tr>\n",
              "      <th>1</th>\n",
              "      <td>MAE</td>\n",
              "      <td>1.809693e+03</td>\n",
              "    </tr>\n",
              "    <tr>\n",
              "      <th>2</th>\n",
              "      <td>MAPE</td>\n",
              "      <td>6.639137e+02</td>\n",
              "    </tr>\n",
              "  </tbody>\n",
              "</table>\n",
              "</div>"
            ],
            "text/plain": [
              "  Metric         Value\n",
              "0    MSE  6.494208e+06\n",
              "1    MAE  1.809693e+03\n",
              "2   MAPE  6.639137e+02"
            ]
          },
          "execution_count": 493,
          "metadata": {},
          "output_type": "execute_result"
        }
      ],
      "source": [
        "evaluate_result = evalute_model(y_test1, y_pred)\n",
        "evaluate_result.head()"
      ]
    }
  ],
  "metadata": {
    "colab": {
      "provenance": []
    },
    "kernelspec": {
      "display_name": "Python 3",
      "name": "python3"
    },
    "language_info": {
      "codemirror_mode": {
        "name": "ipython",
        "version": 3
      },
      "file_extension": ".py",
      "mimetype": "text/x-python",
      "name": "python",
      "nbconvert_exporter": "python",
      "pygments_lexer": "ipython3",
      "version": "3.12.2"
    }
  },
  "nbformat": 4,
  "nbformat_minor": 0
}
